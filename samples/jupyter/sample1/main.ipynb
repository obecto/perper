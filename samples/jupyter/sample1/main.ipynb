{
 "cells": [
  {
   "cell_type": "code",
   "execution_count": 1,
   "id": "9c24c424-8fcb-410d-a495-1ffe01b54b36",
   "metadata": {},
   "outputs": [],
   "source": [
    "import asyncio\n",
    "from pyignite.datatypes.primitive_objects import BoolObject\n",
    "from perper.model.context import *\n",
    "from perper.model.agent import Agent\n",
    "from perper.model.stream import Stream\n",
    "from pyignite.datatypes.standard import String\n",
    "from perper.model.bootstrap import initialize\n",
    "\n",
    "async def generate(params):\n",
    "    for x in range(10):\n",
    "        await asyncio.sleep(1)\n",
    "        yield x\n",
    "\n",
    "async def process_data(param):\n",
    "    print(param)\n",
    "        \n",
    "async def main(agent):\n",
    "    print(agent)\n",
    "    stream = stream_function('generate', True, BoolObject)\n",
    "    \n",
    "    async for value in stream.enumerate():\n",
    "        call_function()\n",
    "        if value == 9:\n",
    "            return ('Done', String)"
   ]
  },
  {
   "cell_type": "code",
   "execution_count": 5,
   "id": "81e20535-0e51-4abb-8741-6c06c1c1c938",
   "metadata": {},
   "outputs": [
    {
     "data": {
      "text/plain": [
       "<Task pending name='Task-76' coro=<initialize() running at c:\\projects\\perper\\agent\\python\\perper\\model\\bootstrap.py:11>>"
      ]
     },
     "execution_count": 5,
     "metadata": {},
     "output_type": "execute_result"
    },
    {
     "name": "stdout",
     "output_type": "stream",
     "text": [
      "<perper.model.stream.Stream object at 0x00000249B6588C10>\n",
      "<perper.model.stream.Stream object at 0x00000249B57907C0>\n",
      "0\n",
      "None\n",
      "0\n",
      "None\n",
      "0\n",
      "None\n",
      "1\n",
      "None\n",
      "1\n",
      "None\n",
      "1\n",
      "None\n",
      "2\n",
      "None\n",
      "2\n",
      "None\n",
      "2\n",
      "None\n",
      "3\n",
      "None\n",
      "3\n",
      "None\n",
      "3\n",
      "None\n",
      "4\n",
      "None\n",
      "4\n",
      "None\n",
      "4\n",
      "None\n",
      "5\n",
      "None\n",
      "5\n",
      "None\n",
      "5\n",
      "None\n",
      "6\n",
      "None\n",
      "6\n",
      "None\n",
      "6\n",
      "None\n",
      "7\n",
      "None\n",
      "7\n",
      "None\n",
      "7\n",
      "None\n",
      "8\n",
      "None\n",
      "8\n",
      "None\n",
      "8\n",
      "None\n",
      "9\n",
      "None\n",
      "9\n"
     ]
    }
   ],
   "source": [
    "asyncio.create_task(initialize('test_agent1', {'test_agent1': main, 'generate': generate}, True))"
   ]
  }
 ],
 "metadata": {
  "kernelspec": {
   "display_name": "Python 3",
   "language": "python",
   "name": "python3"
  },
  "language_info": {
   "codemirror_mode": {
    "name": "ipython",
    "version": 3
   },
   "file_extension": ".py",
   "mimetype": "text/x-python",
   "name": "python",
   "nbconvert_exporter": "python",
   "pygments_lexer": "ipython3",
   "version": "3.9.5"
  }
 },
 "nbformat": 4,
 "nbformat_minor": 5
}
