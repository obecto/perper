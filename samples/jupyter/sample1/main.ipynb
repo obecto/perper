{
 "cells": [
  {
   "cell_type": "code",
   "execution_count": 1,
   "id": "9c24c424-8fcb-410d-a495-1ffe01b54b36",
   "metadata": {},
   "outputs": [],
   "source": [
    "import asyncio\n",
    "from pyignite.datatypes.primitive_objects import IntObject\n",
    "from pyignite.datatypes.standard import String\n",
    "from perper.model.context import *\n",
    "from perper.model.agent import *\n",
    "from perper.model.bootstrap import initialize\n",
    "\n",
    "async def generate(count):\n",
    "    for x in range(count):\n",
    "        await asyncio.sleep(1)\n",
    "        yield x\n",
    "\n",
    "async def process_data(num):\n",
    "    return (num + 1, IntObject)\n",
    "\n",
    "async def main(*args):\n",
    "    stream = stream_function('generate', 5, IntObject)\n",
    "    \n",
    "    async for value in stream.enumerate():\n",
    "        processed_value = await call_function('process_data', value, IntObject)\n",
    "        print(processed_value)\n",
    "\n",
    "        if processed_value == 5:\n",
    "            return ('Done', String)"
   ]
  },
  {
   "cell_type": "code",
   "execution_count": 2,
   "id": "81e20535-0e51-4abb-8741-6c06c1c1c938",
   "metadata": {},
   "outputs": [
    {
     "data": {
      "text/plain": [
       "<Task pending name='Task-1' coro=<initialize() running at c:\\projects\\perper\\agent\\python\\perper\\model\\bootstrap.py:11>>"
      ]
     },
     "execution_count": 2,
     "metadata": {},
     "output_type": "execute_result"
    },
    {
     "name": "stdout",
     "output_type": "stream",
     "text": [
      "1\n",
      "2\n",
      "3\n",
      "4\n",
      "5\n"
     ]
    }
   ],
   "source": [
    "asyncio.create_task(initialize('test_agent1', {'test_agent1': main, 'generate': generate, 'process_data': process_data}, True))"
   ]
  }
 ],
 "metadata": {
  "kernelspec": {
   "display_name": "Python 3",
   "language": "python",
   "name": "python3"
  },
  "language_info": {
   "codemirror_mode": {
    "name": "ipython",
    "version": 3
   },
   "file_extension": ".py",
   "mimetype": "text/x-python",
   "name": "python",
   "nbconvert_exporter": "python",
   "pygments_lexer": "ipython3",
   "version": "3.9.5"
  }
 },
 "nbformat": 4,
 "nbformat_minor": 5
}
