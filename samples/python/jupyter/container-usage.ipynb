{
 "cells": [
  {
   "cell_type": "code",
   "execution_count": null,
   "id": "36c999f6",
   "metadata": {},
   "outputs": [],
   "source": [
    "import asyncio\n",
    "from pyignite.datatypes.primitive_objects import IntObject\n",
    "from pyignite.datatypes.standard import String\n",
    "from perper import *"
   ]
  },
  {
   "cell_type": "code",
   "execution_count": null,
   "id": "635a21ba",
   "metadata": {},
   "outputs": [],
   "source": [
    "task_collection = initialize_notebook()"
   ]
  },
  {
   "cell_type": "code",
   "execution_count": null,
   "id": "406b0c9f",
   "metadata": {},
   "outputs": [],
   "source": [
    "(agent1, _) = await start_agent(\"container-sample\", [])\n",
    "print(\"Started container-sample #1\")"
   ]
  },
  {
   "cell_type": "code",
   "execution_count": null,
   "id": "f4e80696",
   "metadata": {},
   "outputs": [],
   "source": [
    "(agent2, _) = await start_agent(\"container-sample\", [])\n",
    "print(\"Started container-sample #2\")"
   ]
  },
  {
   "cell_type": "code",
   "execution_count": null,
   "id": "b86e89f0",
   "metadata": {},
   "outputs": [],
   "source": [
    "id1 = await agent_call_function(agent1, \"Test\", [1])\n",
    "id2 = await agent_call_function(agent2, \"Test\", [1])\n",
    "\n",
    "for i in range(127):\n",
    "    if ((i ^ (i << 2)) & 8) == 0:\n",
    "        r1 = await agent_call_function(agent1, \"Test\", [1])\n",
    "        if r1 != id1:\n",
    "            raise Exception(f\"Expected to receive {id1} from agent 1, got {r1}\")\n",
    "    else:\n",
    "        r2 = await agent_call_function(agent2, \"Test\", [1])\n",
    "        if r2 != id2:\n",
    "            raise Exception(f\"Expected to receive {id2} from agent 2, got {r2}\")\n",
    "\n",
    "print(\"Test passed!\")"
   ]
  },
  {
   "cell_type": "code",
   "execution_count": null,
   "id": "63486b0e",
   "metadata": {},
   "outputs": [],
   "source": [
    "agent_destroy(agent1)\n",
    "agent_destroy(agent2)\n",
    "\n",
    "print(\"Both agents destroyed!\")"
   ]
  }
 ],
 "metadata": {
  "kernelspec": {
   "display_name": "Python 3 (ipykernel)",
   "language": "python",
   "name": "python3"
  },
  "language_info": {
   "codemirror_mode": {
    "name": "ipython",
    "version": 3
   },
   "file_extension": ".py",
   "mimetype": "text/x-python",
   "name": "python",
   "nbconvert_exporter": "python",
   "pygments_lexer": "ipython3",
   "version": "3.9.7"
  }
 },
 "nbformat": 4,
 "nbformat_minor": 5
}
