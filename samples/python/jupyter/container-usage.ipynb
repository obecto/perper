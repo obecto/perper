{
 "cells": [
  {
   "cell_type": "code",
   "execution_count": null,
   "id": "a5795e50",
   "metadata": {},
   "outputs": [],
   "source": [
    "import asyncio\n",
    "import perper"
   ]
  },
  {
   "cell_type": "code",
   "execution_count": null,
   "id": "d88846f9",
   "metadata": {},
   "outputs": [],
   "source": [
    "perper.run_notebook()"
   ]
  },
  {
   "cell_type": "code",
   "execution_count": null,
   "id": "5285f316",
   "metadata": {},
   "outputs": [],
   "source": [
    "(agent1, _) = await perper.start_agent(\"container-sample\")\n",
    "print(\"Started container-sample #1\")"
   ]
  },
  {
   "cell_type": "code",
   "execution_count": null,
   "id": "4900f2c9",
   "metadata": {},
   "outputs": [],
   "source": [
    "(agent2, _) = await perper.start_agent(\"container-sample\")\n",
    "print(\"Started container-sample #2\")"
   ]
  },
  {
   "cell_type": "code",
   "execution_count": null,
   "id": "7651ea69",
   "metadata": {},
   "outputs": [],
   "source": [
    "id1 = await perper.call_agent(agent1, \"Test\", [1])\n",
    "id2 = await perper.call_agent(agent2, \"Test\", [1])\n",
    "\n",
    "for i in range(127):\n",
    "    if ((i ^ (i << 2)) & 8) == 0:\n",
    "        r1 = await perper.call_agent(agent1, \"Test\", [1])\n",
    "        if r1 != id1:\n",
    "            raise Exception(f\"Expected to receive {id1} from agent 1, got {r1}\")\n",
    "    else:\n",
    "        r2 = await perper.call_agent(agent2, \"Test\", [1])\n",
    "        if r2 != id2:\n",
    "            raise Exception(f\"Expected to receive {id2} from agent 2, got {r2}\")\n",
    "\n",
    "print(\"Test passed!\")"
   ]
  },
  {
   "cell_type": "code",
   "execution_count": null,
   "id": "24e9d584",
   "metadata": {},
   "outputs": [],
   "source": [
    "perper.destroy_agent(agent1)\n",
    "perper.destroy_agent(agent2)\n",
    "\n",
    "print(\"Both agents destroyed!\")"
   ]
  },
  {
   "cell_type": "code",
   "execution_count": null,
   "id": "b89bce85",
   "metadata": {},
   "outputs": [],
   "source": []
  }
 ],
 "metadata": {
  "kernelspec": {
   "display_name": "Python 3 (ipykernel)",
   "language": "python",
   "name": "python3"
  },
  "language_info": {
   "codemirror_mode": {
    "name": "ipython",
    "version": 3
   },
   "file_extension": ".py",
   "mimetype": "text/x-python",
   "name": "python",
   "nbconvert_exporter": "python",
   "pygments_lexer": "ipython3",
   "version": "3.9.7"
  }
 },
 "nbformat": 4,
 "nbformat_minor": 5
}
