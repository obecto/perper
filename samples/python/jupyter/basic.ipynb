{
 "cells": [
  {
   "cell_type": "code",
   "execution_count": null,
   "id": "0877d494",
   "metadata": {},
   "outputs": [],
   "source": [
    "import asyncio\n",
    "import random\n",
    "from pyignite.datatypes.primitive_objects import IntObject\n",
    "from pyignite.datatypes.standard import String\n",
    "from perper import *"
   ]
  },
  {
   "cell_type": "code",
   "execution_count": null,
   "id": "7f7e0fc1",
   "metadata": {},
   "outputs": [],
   "source": [
    "task_collection = initialize_notebook()"
   ]
  },
  {
   "cell_type": "code",
   "execution_count": null,
   "id": "b665bfc8",
   "metadata": {},
   "outputs": [],
   "source": [
    "def do_something(message):\n",
    "    print(\"DoSomething called:\", message)\n",
    "\n",
    "\n",
    "task_collection.add(listen_call_triggers(task_collection, \"DoSomething\", do_something))\n",
    "\n",
    "\n",
    "async def do_something_async(message):\n",
    "    print(\"DoSomethingAsync called:\", message)\n",
    "\n",
    "\n",
    "task_collection.add(listen_call_triggers(task_collection, \"DoSomethingAsync\", do_something))"
   ]
  },
  {
   "cell_type": "code",
   "execution_count": null,
   "id": "9c24c424-8fcb-410d-a495-1ffe01b54b36",
   "metadata": {},
   "outputs": [],
   "source": [
    "def get_random_number(a, b):\n",
    "    return (random.randint(a, b), IntObject)\n",
    "\n",
    "\n",
    "task_collection.add(listen_call_triggers(task_collection, \"GetRandomNumber\", get_random_number))\n",
    "\n",
    "\n",
    "async def get_random_number_async(a, b):\n",
    "    return (random.randint(a, b), IntObject)\n",
    "\n",
    "\n",
    "task_collection.add(listen_call_triggers(task_collection, \"GetRandomNumberAsync\", get_random_number_async))"
   ]
  },
  {
   "cell_type": "code",
   "execution_count": null,
   "id": "81e20535-0e51-4abb-8741-6c06c1c1c938",
   "metadata": {},
   "outputs": [],
   "source": [
    "randomNumber = await call_function(\"GetRandomNumber\", [1, 100])\n",
    "print(f\"Random number: {randomNumber}\")\n",
    "\n",
    "anotherRandomNumber = await call_function(\"GetRandomNumberAsync\", [1, 100])\n",
    "print(f\"Random number: {anotherRandomNumber}\")"
   ]
  },
  {
   "cell_type": "code",
   "execution_count": null,
   "id": "66455758",
   "metadata": {},
   "outputs": [],
   "source": [
    "await call_action(\"DoSomething\", [\"123\"])\n",
    "await call_action(\"DoSomethingAsync\", [\"456\"])"
   ]
  },
  {
   "cell_type": "code",
   "execution_count": null,
   "id": "fe836c8c",
   "metadata": {},
   "outputs": [],
   "source": [
    "async def generator(count):\n",
    "    for i in range(count):\n",
    "        await asyncio.sleep(0.1)\n",
    "        yield f\"{i}. Message\"\n",
    "\n",
    "\n",
    "task_collection.add(listen_stream_triggers(task_collection, \"Generator\", generator))"
   ]
  },
  {
   "cell_type": "code",
   "execution_count": null,
   "id": "9ecadce6",
   "metadata": {},
   "outputs": [],
   "source": [
    "async def processor(generator, batch_size):\n",
    "    batch = []\n",
    "    async for message in stream_enumerate(generator):\n",
    "        batch += [message + \"_processed\"]\n",
    "        if len(batch) == batch_size:\n",
    "            yield batch\n",
    "            batch = []\n",
    "\n",
    "\n",
    "task_collection.add(listen_stream_triggers(task_collection, \"Processor\", processor))"
   ]
  },
  {
   "cell_type": "code",
   "execution_count": null,
   "id": "43717233",
   "metadata": {},
   "outputs": [],
   "source": [
    "async def consumer(processor):\n",
    "    async for batch in stream_enumerate(processor):\n",
    "        print(f\"Received batch of {len(batch)} messages.\")\n",
    "        print(\", \".join(batch))\n",
    "\n",
    "\n",
    "task_collection.add(listen_stream_triggers(task_collection, \"Consumer\", consumer))"
   ]
  },
  {
   "cell_type": "code",
   "execution_count": null,
   "id": "ab2b12eb",
   "metadata": {},
   "outputs": [],
   "source": [
    "message_count = 28\n",
    "batch_count = 10\n",
    "\n",
    "generator = create_stream_function(\"Generator\", [message_count])\n",
    "processor = create_stream_function(\"Processor\", [generator, batch_count])\n",
    "_ = create_stream_action(\"Consumer\", [processor])"
   ]
  }
 ],
 "metadata": {
  "kernelspec": {
   "display_name": "Python 3 (ipykernel)",
   "language": "python",
   "name": "python3"
  },
  "language_info": {
   "codemirror_mode": {
    "name": "ipython",
    "version": 3
   },
   "file_extension": ".py",
   "mimetype": "text/x-python",
   "name": "python",
   "nbconvert_exporter": "python",
   "pygments_lexer": "ipython3",
   "version": "3.9.7"
  }
 },
 "nbformat": 4,
 "nbformat_minor": 5
}
