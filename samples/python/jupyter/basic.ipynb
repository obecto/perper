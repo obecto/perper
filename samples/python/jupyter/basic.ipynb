{
 "cells": [
  {
   "cell_type": "code",
   "execution_count": null,
   "id": "5f6871c4",
   "metadata": {},
   "outputs": [],
   "source": [
    "import asyncio\n",
    "import random\n",
    "import perper"
   ]
  },
  {
   "cell_type": "code",
   "execution_count": null,
   "id": "b9afad6a",
   "metadata": {},
   "outputs": [],
   "source": [
    "perper.run_notebook()"
   ]
  },
  {
   "cell_type": "code",
   "execution_count": null,
   "id": "fca8f16d",
   "metadata": {},
   "outputs": [],
   "source": [
    "def do_something(message):\n",
    "    print(\"DoSomething called:\", message)\n",
    "\n",
    "\n",
    "perper.register_delegate(\"DoSomething\", do_something)\n",
    "\n",
    "\n",
    "async def do_something_async(message):\n",
    "    print(\"DoSomethingAsync called:\", message)\n",
    "\n",
    "\n",
    "perper.register_delegate(\"DoSomethingAsync\", do_something_async)"
   ]
  },
  {
   "cell_type": "code",
   "execution_count": null,
   "id": "4eb4fa56",
   "metadata": {},
   "outputs": [],
   "source": [
    "await perper.call(\"DoSomething\", \"123\")\n",
    "await perper.call(\"DoSomethingAsync\", \"456\")"
   ]
  },
  {
   "cell_type": "code",
   "execution_count": null,
   "id": "54661645",
   "metadata": {},
   "outputs": [],
   "source": [
    "def get_random_number(a, b):\n",
    "    return (random.randint(a, b), IntObject)\n",
    "\n",
    "\n",
    "perper.register_delegate(\"GetRandomNumber\", get_random_number)\n",
    "\n",
    "\n",
    "async def get_random_number_async(a, b):\n",
    "    return (random.randint(a, b), IntObject)\n",
    "\n",
    "\n",
    "perper.register_delegate(\"GetRandomNumberAsync\", get_random_number_async)"
   ]
  },
  {
   "cell_type": "code",
   "execution_count": null,
   "id": "de7368ee",
   "metadata": {},
   "outputs": [],
   "source": [
    "randomNumber1 = await perper.call(\"GetRandomNumber\", 1, 100)\n",
    "print(f\"Random number: {randomNumber1}\")\n",
    "\n",
    "randomNumber2 = await perper.call(\"GetRandomNumberAsync\", 1, 100)\n",
    "print(f\"Random number: {randomNumber2}\")"
   ]
  },
  {
   "cell_type": "code",
   "execution_count": null,
   "id": "17107bef",
   "metadata": {},
   "outputs": [],
   "source": [
    "async def generator(count):\n",
    "    for i in range(count):\n",
    "        await asyncio.sleep(0.1)\n",
    "        yield f\"{i}. Message\"\n",
    "\n",
    "\n",
    "perper.register_delegate(\"Generator\", generator)"
   ]
  },
  {
   "cell_type": "code",
   "execution_count": null,
   "id": "88024cd2",
   "metadata": {},
   "outputs": [],
   "source": [
    "async def processor(generator, batch_size):\n",
    "    batch = []\n",
    "    async for message in perper.enumerate_stream(generator):\n",
    "        batch += [message + \"_processed\"]\n",
    "        if len(batch) == batch_size:\n",
    "            yield batch\n",
    "            batch = []\n",
    "\n",
    "\n",
    "perper.register_delegate(\"Processor\", processor)"
   ]
  },
  {
   "cell_type": "code",
   "execution_count": null,
   "id": "18d8ecdc",
   "metadata": {},
   "outputs": [],
   "source": [
    "async def consumer(processor):\n",
    "    async for batch in perper.enumerate_stream(processor):\n",
    "        print(f\"Received batch of {len(batch)} messages.\")\n",
    "        print(\", \".join(batch))\n",
    "\n",
    "\n",
    "perper.register_delegate(\"Consumer\", consumer)"
   ]
  },
  {
   "cell_type": "code",
   "execution_count": null,
   "id": "2b47b2dc",
   "metadata": {},
   "outputs": [],
   "source": [
    "# Streams\n",
    "message_count = 28\n",
    "batch_count = 10\n",
    "\n",
    "generator = perper.start_stream(\"Generator\", message_count)\n",
    "processor = perper.start_stream(\"Processor\", generator, batch_count)\n",
    "_ = perper.start_stream(\"Consumer\", processor, action=True)"
   ]
  },
  {
   "cell_type": "code",
   "execution_count": null,
   "id": "69c185bf",
   "metadata": {},
   "outputs": [],
   "source": []
  }
 ],
 "metadata": {
  "kernelspec": {
   "display_name": "Python 3 (ipykernel)",
   "language": "python",
   "name": "python3"
  },
  "language_info": {
   "codemirror_mode": {
    "name": "ipython",
    "version": 3
   },
   "file_extension": ".py",
   "mimetype": "text/x-python",
   "name": "python",
   "nbconvert_exporter": "python",
   "pygments_lexer": "ipython3",
   "version": "3.9.7"
  }
 },
 "nbformat": 4,
 "nbformat_minor": 5
}
