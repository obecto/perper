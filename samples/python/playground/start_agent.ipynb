{
 "cells": [
  {
   "cell_type": "code",
   "execution_count": 1,
   "id": "23bff3e3-de5b-4837-9a8d-9452d5099b29",
   "metadata": {},
   "outputs": [],
   "source": [
    "import perpernet\n",
    "from perpernet import establish_connection, configure_instance, task_to_future\n",
    "from System.Collections import Hashtable"
   ]
  },
  {
   "cell_type": "code",
   "execution_count": 2,
   "id": "0a085690-7e74-44a7-a3d8-fd146bb99f89",
   "metadata": {},
   "outputs": [
    {
     "name": "stdout",
     "output_type": "stream",
     "text": [
      "APACHE_IGNITE_ENDPOINT: 127.0.0.1:10800\n",
      "PERPER_FABRIC_ENDPOINT: http://127.0.0.1:40400\n"
     ]
    }
   ],
   "source": [
    "perpernet.run_notebook()"
   ]
  },
  {
   "cell_type": "code",
   "execution_count": 3,
   "id": "ba4b8f91-65a2-4931-a2a5-d66ed8e0763f",
   "metadata": {},
   "outputs": [
    {
     "name": "stdout",
     "output_type": "stream",
     "text": [
      "APACHE_IGNITE_ENDPOINT: 127.0.0.1:10800\n",
      "PERPER_FABRIC_ENDPOINT: http://127.0.0.1:40400\n",
      "X_PERPER_AGENT: \n",
      "X_PERPER_INSTANCE: \n"
     ]
    }
   ],
   "source": [
    "fabric_service = await establish_connection()\n",
    "_, instance = configure_instance()"
   ]
  },
  {
   "cell_type": "code",
   "execution_count": 4,
   "id": "ba9b1493-4868-49ed-a0a3-229165d46e53",
   "metadata": {},
   "outputs": [
    {
     "name": "stdout",
     "output_type": "stream",
     "text": [
      "Startup parameters  (<System.Object[] object at 0x7f97d9afea40>, '4')\n"
     ]
    },
    {
     "data": {
      "text/plain": [
       "<System.Threading.Tasks.VoidTaskResult object at 0x7f97d9afec40>"
      ]
     },
     "execution_count": 4,
     "metadata": {},
     "output_type": "execute_result"
    }
   ],
   "source": [
    "agent = \"test_agent\"\n",
    "\n",
    "startup_execution = await task_to_future(lambda ct: fabric_service.GetExecutionsReader(agent, instance, \"Startup\").\n",
    "                                         ReadAsync(ct))\n",
    "startup_parameters = await task_to_future(\n",
    "    lambda _: fabric_service.ReadExecutionParameters(startup_execution.Execution))\n",
    "print(\"Startup parameters \", tuple(startup_parameters))\n",
    "d = Hashtable()\n",
    "d.Add(\"f\", \"w\")\n",
    "await task_to_future(lambda _: fabric_service.WriteExecutionResult(startup_execution.Execution, [d]))"
   ]
  },
  {
   "cell_type": "code",
   "execution_count": 5,
   "id": "6387b1da-2efb-485e-a745-decaed0ec8ec",
   "metadata": {},
   "outputs": [
    {
     "ename": "NameError",
     "evalue": "name 'a' is not defined",
     "output_type": "error",
     "traceback": [
      "\u001b[0;31m---------------------------------------------------------------------------\u001b[0m",
      "\u001b[0;31mNameError\u001b[0m                                 Traceback (most recent call last)",
      "Input \u001b[0;32mIn [5]\u001b[0m, in \u001b[0;36m<cell line: 1>\u001b[0;34m()\u001b[0m\n\u001b[0;32m----> 1\u001b[0m \u001b[43ma\u001b[49m\n",
      "\u001b[0;31mNameError\u001b[0m: name 'a' is not defined"
     ]
    }
   ],
   "source": [
    "a"
   ]
  },
  {
   "cell_type": "code",
   "execution_count": null,
   "id": "942074d5-b608-4d8e-ad10-c55616344e8e",
   "metadata": {},
   "outputs": [],
   "source": [
    "agent = \"MarketData\"\n",
    "\n",
    "startup_execution = await task_to_future(lambda ct: fabric_service.GetExecutionsReader(agent, instance, \"Startup\").\n",
    "                                         ReadAsync(ct))\n",
    "startup_parameters = await task_to_future(\n",
    "    lambda _: fabric_service.ReadExecutionParameters(startup_execution.Execution))\n",
    "\n",
    "print(\"Startup parameters \", tuple(startup_parameters))\n",
    "\n",
    "await task_to_future(lambda _: fabric_service.WriteExecutionFinished(startup_execution.Execution))"
   ]
  },
  {
   "cell_type": "code",
   "execution_count": null,
   "id": "a8be8c93-b89d-4e0a-afb9-527c20a2ee26",
   "metadata": {},
   "outputs": [],
   "source": [
    "agent = \"MarketFeatures\"\n",
    "\n",
    "startup_execution = await task_to_future(lambda ct: fabric_service.GetExecutionsReader(agent, instance, \"Startup\").\n",
    "                                         ReadAsync(ct))\n",
    "startup_parameters = await task_to_future(\n",
    "    lambda _: fabric_service.ReadExecutionParameters(startup_execution.Execution))\n",
    "\n",
    "print(\"Startup parameters \", tuple(startup_parameters))\n",
    "\n",
    "await task_to_future(lambda _: fabric_service.WriteExecutionFinished(startup_execution.Execution))"
   ]
  },
  {
   "cell_type": "code",
   "execution_count": null,
   "id": "159b3ceb-14be-44c2-b507-3d337116afce",
   "metadata": {},
   "outputs": [],
   "source": [
    "agent = \"second_container\"\n",
    "\n",
    "startup_execution = await task_to_future(lambda ct: fabric_service.GetExecutionsReader(agent, instance, \"Startup\").\n",
    "                                         ReadAsync(ct))\n",
    "startup_parameters = await task_to_future(\n",
    "    lambda _: fabric_service.ReadExecutionParameters(startup_execution.Execution))\n",
    "\n",
    "print(\"Startup parameters \", tuple(startup_parameters))\n",
    "\n",
    "await task_to_future(lambda _: fabric_service.WriteExecutionFinished(startup_execution.Execution))"
   ]
  },
  {
   "cell_type": "code",
   "execution_count": null,
   "id": "cf109b26-4460-4b6b-bcdc-c53e9fe9e7e7",
   "metadata": {},
   "outputs": [],
   "source": []
  }
 ],
 "metadata": {
  "kernelspec": {
   "display_name": "Python 3 (ipykernel)",
   "language": "python",
   "name": "python3"
  },
  "language_info": {
   "codemirror_mode": {
    "name": "ipython",
    "version": 3
   },
   "file_extension": ".py",
   "mimetype": "text/x-python",
   "name": "python",
   "nbconvert_exporter": "python",
   "pygments_lexer": "ipython3",
   "version": "3.8.13"
  }
 },
 "nbformat": 4,
 "nbformat_minor": 5
}
