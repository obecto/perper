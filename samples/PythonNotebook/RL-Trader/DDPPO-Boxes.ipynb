{
 "cells": [
  {
   "cell_type": "code",
   "execution_count": 1,
   "metadata": {},
   "outputs": [
    {
     "data": {
      "text/plain": [
       "80"
      ]
     },
     "execution_count": 1,
     "metadata": {},
     "output_type": "execute_result"
    }
   ],
   "source": [
    "from Environments.SineEnv import SineMarketEnv\n",
    "from Environments.BoxesMarket import BoxesMarket\n",
    "from Environments.wrappers.reward_wrapper import CuriosityWrapper\n",
    "\n",
    "import numpy as np\n",
    "import matplotlib.pyplot as plt\n",
    "import ray\n",
    "import gym\n",
    "from ray.tune.registry import register_env\n",
    "from ray.rllib.agents.ppo.ddppo import DEFAULT_CONFIG\n",
    "from ray.rllib.agents.ppo.ddppo import DDPPOTrainer\n",
    "import os\n",
    "import gc\n",
    "import torch \n",
    "import pandas as pd\n",
    "gc.collect()"
   ]
  },
  {
   "cell_type": "code",
   "execution_count": 2,
   "metadata": {},
   "outputs": [
    {
     "name": "stderr",
     "output_type": "stream",
     "text": [
      "2020-10-30 21:45:58,641\tINFO services.py:1164 -- View the Ray dashboard at \u001b[1m\u001b[32mhttp://127.0.0.1:8265\u001b[39m\u001b[22m\n",
      "2020-10-30 21:45:58,650\tWARNING services.py:1617 -- WARNING: The object store is using /tmp instead of /dev/shm because /dev/shm has only 66887680 bytes available. This may slow down performance! You may be able to free up space by deleting files in /dev/shm or terminating any running plasma_store_server processes. If you are inside a Docker container, you may need to pass an argument with the flag '--shm-size' to 'docker run'.\n"
     ]
    }
   ],
   "source": [
    "try:\n",
    "    ray.init(num_gpus = 1, num_cpus = 4)\n",
    "except:\n",
    "    ray.shutdown()\n",
    "    ray.init(num_gpus = 1, num_cpus = 4)"
   ]
  },
  {
   "cell_type": "code",
   "execution_count": 3,
   "metadata": {
    "scrolled": true
   },
   "outputs": [],
   "source": [
    "trainer_config = DEFAULT_CONFIG.copy()"
   ]
  },
  {
   "cell_type": "code",
   "execution_count": 4,
   "metadata": {
    "scrolled": true
   },
   "outputs": [
    {
     "data": {
      "text/plain": [
       "{'fcnet_hiddens': [256, 256],\n",
       " 'fcnet_activation': 'tanh',\n",
       " 'conv_filters': None,\n",
       " 'conv_activation': 'relu',\n",
       " 'free_log_std': False,\n",
       " 'no_final_linear': False,\n",
       " 'vf_share_layers': True,\n",
       " 'use_lstm': False,\n",
       " 'max_seq_len': 20,\n",
       " 'lstm_cell_size': 256,\n",
       " 'lstm_use_prev_action_reward': False,\n",
       " '_time_major': False,\n",
       " 'framestack': True,\n",
       " 'dim': 84,\n",
       " 'grayscale': False,\n",
       " 'zero_mean': True,\n",
       " 'custom_model': None,\n",
       " 'custom_model_config': {},\n",
       " 'custom_action_dist': None,\n",
       " 'custom_preprocessor': None}"
      ]
     },
     "execution_count": 4,
     "metadata": {},
     "output_type": "execute_result"
    }
   ],
   "source": [
    "trainer_config['model']"
   ]
  },
  {
   "cell_type": "code",
   "execution_count": 5,
   "metadata": {},
   "outputs": [],
   "source": [
    "trainer_config['model']['use_lstm'] = False\n",
    "trainer_config['model']['lstm_cell_size'] = 512\n",
    "trainer_config['num_gpus'] = 0\n",
    "trainer_config['num_gpus_per_worker'] = 1\n",
    "trainer_config['num_envs_per_worker'] = 1\n",
    "trainer_config['gamma'] = 0\n",
    "trainer_config['entropy_coeff'] = 0\n",
    "trainer_config['framework'] = 'torch'\n",
    "trainer_config['num_workers'] = 1\n",
    "trainer_config['horizon'] = 1000\n",
    "trainer_config['rollout_fragment_length'] = 1000\n",
    "trainer_config['model']['framestack'] = False\n",
    "trainer_config['model']['fcnet_hiddens'] = [1024, 1024]\n",
    "conf = {'data': 'Data/predictions/',\n",
    "                                'starting_money': 1000,\n",
    "                                'starting_stocks': 0,\n",
    "                                'episode_length': 10000,\n",
    "                                'commission': 0.0025,\n",
    "                                'state_trades_num': 10,\n",
    "                                'action_mode':1,\n",
    "                                'curiosity_reward':0\n",
    "                                }\n",
    "trainer_config['env_config'] = conf\n",
    "trainer_config['entropy_coeff_schedule'] = 1000"
   ]
  },
  {
   "cell_type": "code",
   "execution_count": 6,
   "metadata": {},
   "outputs": [],
   "source": [
    "def curiosity_env_create(env_config):\n",
    "    return CuriosityWrapper(BoxesMarket(env_config))"
   ]
  },
  {
   "cell_type": "code",
   "execution_count": 7,
   "metadata": {},
   "outputs": [],
   "source": [
    "register_env('CuriosityBoxesMarket', curiosity_env_create)"
   ]
  },
  {
   "cell_type": "code",
   "execution_count": 8,
   "metadata": {},
   "outputs": [
    {
     "name": "stderr",
     "output_type": "stream",
     "text": [
      "2020-10-30 21:45:58,986\tERROR syncer.py:63 -- Log sync requires rsync to be installed.\n",
      "2020-10-30 21:45:58,994\tINFO trainer.py:616 -- Current log_level is WARN. For more information, set 'log_level': 'INFO' / 'DEBUG' or use the -v and -vv flags.\n",
      "\u001b[2m\u001b[36m(pid=11190)\u001b[0m /root/miniconda3/envs/rl/lib/python3.8/site-packages/ray/rllib/utils/torch_ops.py:65: UserWarning: The given NumPy array is not writeable, and PyTorch does not support non-writeable tensors. This means you can write to the underlying (supposedly non-writeable) NumPy array using the tensor. You may want to copy the array to protect its data or make it writeable before converting it to a tensor. This type of warning will be suppressed for the rest of this program. (Triggered internally at  /opt/conda/conda-bld/pytorch_1595629395347/work/torch/csrc/utils/tensor_numpy.cpp:141.)\n",
      "\u001b[2m\u001b[36m(pid=11190)\u001b[0m   tensor = torch.from_numpy(np.asarray(item))\n",
      "2020-10-30 21:46:03,200\tWARNING util.py:39 -- Install gputil for GPU system monitoring.\n"
     ]
    }
   ],
   "source": [
    "trainer = DDPPOTrainer(trainer_config, env = 'CuriosityBoxesMarket')"
   ]
  },
  {
   "cell_type": "code",
   "execution_count": 9,
   "metadata": {},
   "outputs": [],
   "source": [
    "best_reward = -np.inf\n",
    "trainer.save()\n",
    "hall_of_fame = [0]\n",
    "last_checkpoint = 0"
   ]
  },
  {
   "cell_type": "code",
   "execution_count": 10,
   "metadata": {
    "scrolled": true
   },
   "outputs": [
    {
     "name": "stdout",
     "output_type": "stream",
     "text": [
      "Training iteration 0...\n",
      "\u001b[2m\u001b[36m(pid=11190)\u001b[0m ------------------------------Reset called------------------------------\n",
      "\u001b[2m\u001b[36m(pid=11190)\u001b[0m ------------------------------Reset called------------------------------\n"
     ]
    },
    {
     "name": "stderr",
     "output_type": "stream",
     "text": [
      "/root/miniconda3/envs/rl/lib/python3.8/site-packages/ray/rllib/utils/torch_ops.py:65: UserWarning: The given NumPy array is not writeable, and PyTorch does not support non-writeable tensors. This means you can write to the underlying (supposedly non-writeable) NumPy array using the tensor. You may want to copy the array to protect its data or make it writeable before converting it to a tensor. This type of warning will be suppressed for the rest of this program. (Triggered internally at  /opt/conda/conda-bld/pytorch_1595629395347/work/torch/csrc/utils/tensor_numpy.cpp:141.)\n",
      "  tensor = torch.from_numpy(np.asarray(item))\n"
     ]
    },
    {
     "name": "stdout",
     "output_type": "stream",
     "text": [
      "New best reward\n",
      "5.526146333937678\n",
      "Best Reward So Far\n",
      "5.526146333937678\n",
      "Training iteration 1...\n",
      "\u001b[2m\u001b[36m(pid=11190)\u001b[0m ------------------------------Reset called------------------------------\n",
      "Training iteration 2...\n",
      "\u001b[2m\u001b[36m(pid=11190)\u001b[0m ------------------------------Reset called------------------------------\n",
      "Training iteration 3...\n",
      "\u001b[2m\u001b[36m(pid=11190)\u001b[0m ------------------------------Reset called------------------------------\n",
      "New best reward\n",
      "17.741929108637805\n",
      "Training iteration 4...\n",
      "\u001b[2m\u001b[36m(pid=11190)\u001b[0m ------------------------------Reset called------------------------------\n",
      "New best reward\n",
      "19.418306724177686\n",
      "Training iteration 5...\n",
      "\u001b[2m\u001b[36m(pid=11190)\u001b[0m ------------------------------Reset called------------------------------\n",
      "Training iteration 6...\n",
      "\u001b[2m\u001b[36m(pid=11190)\u001b[0m ------------------------------Reset called------------------------------\n",
      "Training iteration 7...\n",
      "\u001b[2m\u001b[36m(pid=11190)\u001b[0m ------------------------------Reset called------------------------------\n",
      "Training iteration 8...\n",
      "\u001b[2m\u001b[36m(pid=11190)\u001b[0m ------------------------------Reset called------------------------------\n",
      "New best reward\n",
      "24.3024467563592\n",
      "Training iteration 9...\n",
      "\u001b[2m\u001b[36m(pid=11190)\u001b[0m ------------------------------Reset called------------------------------\n",
      "New best reward\n",
      "40.08108569376203\n",
      "Training iteration 10...\n",
      "\u001b[2m\u001b[36m(pid=11190)\u001b[0m ------------------------------Reset called------------------------------\n",
      "Best Reward So Far\n",
      "40.08108569376203\n",
      "Training iteration 11...\n",
      "\u001b[2m\u001b[36m(pid=11190)\u001b[0m ------------------------------Reset called------------------------------\n",
      "New best reward\n",
      "44.08481043057906\n",
      "Training iteration 12...\n",
      "\u001b[2m\u001b[36m(pid=11190)\u001b[0m ------------------------------Reset called------------------------------\n",
      "New best reward\n",
      "68.27051707252876\n",
      "Training iteration 13...\n",
      "\u001b[2m\u001b[36m(pid=11190)\u001b[0m ------------------------------Reset called------------------------------\n",
      "Training iteration 14...\n",
      "\u001b[2m\u001b[36m(pid=11190)\u001b[0m ------------------------------Reset called------------------------------\n",
      "Training iteration 15...\n",
      "\u001b[2m\u001b[36m(pid=11190)\u001b[0m ------------------------------Reset called------------------------------\n",
      "Training iteration 16...\n",
      "\u001b[2m\u001b[36m(pid=11190)\u001b[0m ------------------------------Reset called------------------------------\n",
      "Training iteration 17...\n",
      "\u001b[2m\u001b[36m(pid=11190)\u001b[0m ------------------------------Reset called------------------------------\n",
      "Training iteration 18...\n",
      "\u001b[2m\u001b[36m(pid=11190)\u001b[0m ------------------------------Reset called------------------------------\n",
      "Training iteration 19...\n",
      "\u001b[2m\u001b[36m(pid=11190)\u001b[0m ------------------------------Reset called------------------------------\n",
      "Training iteration 20...\n",
      "\u001b[2m\u001b[36m(pid=11190)\u001b[0m ------------------------------Reset called------------------------------\n",
      "Best Reward So Far\n",
      "68.27051707252876\n",
      "Training iteration 21...\n",
      "\u001b[2m\u001b[36m(pid=11190)\u001b[0m ------------------------------Reset called------------------------------\n",
      "Training iteration 22...\n",
      "\u001b[2m\u001b[36m(pid=11190)\u001b[0m ------------------------------Reset called------------------------------\n",
      "Training iteration 23...\n",
      "\u001b[2m\u001b[36m(pid=11190)\u001b[0m ------------------------------Reset called------------------------------\n",
      "Training iteration 24...\n",
      "\u001b[2m\u001b[36m(pid=11190)\u001b[0m ------------------------------Reset called------------------------------\n",
      "Training iteration 25...\n",
      "\u001b[2m\u001b[36m(pid=11190)\u001b[0m ------------------------------Reset called------------------------------\n",
      "Training iteration 26...\n",
      "\u001b[2m\u001b[36m(pid=11190)\u001b[0m ------------------------------Reset called------------------------------\n",
      "Training iteration 27...\n",
      "\u001b[2m\u001b[36m(pid=11190)\u001b[0m ------------------------------Reset called------------------------------\n",
      "Training iteration 28...\n",
      "\u001b[2m\u001b[36m(pid=11190)\u001b[0m ------------------------------Reset called------------------------------\n",
      "Training iteration 29...\n",
      "\u001b[2m\u001b[36m(pid=11190)\u001b[0m ------------------------------Reset called------------------------------\n",
      "Training iteration 30...\n",
      "\u001b[2m\u001b[36m(pid=11190)\u001b[0m ------------------------------Reset called------------------------------\n",
      "Best Reward So Far\n",
      "68.27051707252876\n",
      "Training iteration 31...\n",
      "\u001b[2m\u001b[36m(pid=11190)\u001b[0m ------------------------------Reset called------------------------------\n",
      "Training iteration 32...\n",
      "\u001b[2m\u001b[36m(pid=11190)\u001b[0m ------------------------------Reset called------------------------------\n",
      "Training iteration 33...\n",
      "\u001b[2m\u001b[36m(pid=11190)\u001b[0m ------------------------------Reset called------------------------------\n",
      "Training iteration 34...\n",
      "\u001b[2m\u001b[36m(pid=11190)\u001b[0m ------------------------------Reset called------------------------------\n",
      "Training iteration 35...\n",
      "\u001b[2m\u001b[36m(pid=11190)\u001b[0m ------------------------------Reset called------------------------------\n",
      "Training iteration 36...\n",
      "\u001b[2m\u001b[36m(pid=11190)\u001b[0m ------------------------------Reset called------------------------------\n",
      "Training iteration 37...\n",
      "\u001b[2m\u001b[36m(pid=11190)\u001b[0m ------------------------------Reset called------------------------------\n",
      "Training iteration 38...\n",
      "\u001b[2m\u001b[36m(pid=11190)\u001b[0m ------------------------------Reset called------------------------------\n",
      "New best reward\n",
      "136.00294557275407\n",
      "Training iteration 39...\n",
      "\u001b[2m\u001b[36m(pid=11190)\u001b[0m ------------------------------Reset called------------------------------\n",
      "Training iteration 40...\n",
      "\u001b[2m\u001b[36m(pid=11190)\u001b[0m ------------------------------Reset called------------------------------\n",
      "Best Reward So Far\n",
      "136.00294557275407\n",
      "Training iteration 41...\n",
      "\u001b[2m\u001b[36m(pid=11190)\u001b[0m ------------------------------Reset called------------------------------\n",
      "Training iteration 42...\n",
      "\u001b[2m\u001b[36m(pid=11190)\u001b[0m ------------------------------Reset called------------------------------\n",
      "Training iteration 43...\n",
      "\u001b[2m\u001b[36m(pid=11190)\u001b[0m ------------------------------Reset called------------------------------\n",
      "Training iteration 44...\n",
      "\u001b[2m\u001b[36m(pid=11190)\u001b[0m ------------------------------Reset called------------------------------\n",
      "Training iteration 45...\n",
      "\u001b[2m\u001b[36m(pid=11190)\u001b[0m ------------------------------Reset called------------------------------\n",
      "Training iteration 46...\n",
      "\u001b[2m\u001b[36m(pid=11190)\u001b[0m ------------------------------Reset called------------------------------\n",
      "Training iteration 47...\n",
      "\u001b[2m\u001b[36m(pid=11190)\u001b[0m ------------------------------Reset called------------------------------\n",
      "Training iteration 48...\n",
      "\u001b[2m\u001b[36m(pid=11190)\u001b[0m ------------------------------Reset called------------------------------\n",
      "Training iteration 49...\n",
      "\u001b[2m\u001b[36m(pid=11190)\u001b[0m ------------------------------Reset called------------------------------\n",
      "Training iteration 50...\n",
      "\u001b[2m\u001b[36m(pid=11190)\u001b[0m ------------------------------Reset called------------------------------\n",
      "Best Reward So Far\n",
      "136.00294557275407\n",
      "Training iteration 51...\n",
      "\u001b[2m\u001b[36m(pid=11190)\u001b[0m ------------------------------Reset called------------------------------\n",
      "Training iteration 52...\n",
      "\u001b[2m\u001b[36m(pid=11190)\u001b[0m ------------------------------Reset called------------------------------\n",
      "Training iteration 53...\n",
      "\u001b[2m\u001b[36m(pid=11190)\u001b[0m ------------------------------Reset called------------------------------\n",
      "Training iteration 54...\n",
      "\u001b[2m\u001b[36m(pid=11190)\u001b[0m ------------------------------Reset called------------------------------\n",
      "Training iteration 55...\n",
      "\u001b[2m\u001b[36m(pid=11190)\u001b[0m ------------------------------Reset called------------------------------\n",
      "Training iteration 56...\n",
      "\u001b[2m\u001b[36m(pid=11190)\u001b[0m ------------------------------Reset called------------------------------\n",
      "Training iteration 57...\n",
      "\u001b[2m\u001b[36m(pid=11190)\u001b[0m ------------------------------Reset called------------------------------\n",
      "Training iteration 58...\n",
      "\u001b[2m\u001b[36m(pid=11190)\u001b[0m ------------------------------Reset called------------------------------\n",
      "Training iteration 59...\n",
      "\u001b[2m\u001b[36m(pid=11190)\u001b[0m ------------------------------Reset called------------------------------\n",
      "Training iteration 60...\n",
      "\u001b[2m\u001b[36m(pid=11190)\u001b[0m ------------------------------Reset called------------------------------\n",
      "Best Reward So Far\n",
      "136.00294557275407\n",
      "Training iteration 61...\n",
      "\u001b[2m\u001b[36m(pid=11190)\u001b[0m ------------------------------Reset called------------------------------\n",
      "Training iteration 62...\n",
      "\u001b[2m\u001b[36m(pid=11190)\u001b[0m ------------------------------Reset called------------------------------\n",
      "Training iteration 63...\n",
      "\u001b[2m\u001b[36m(pid=11190)\u001b[0m ------------------------------Reset called------------------------------\n",
      "Training iteration 64...\n",
      "\u001b[2m\u001b[36m(pid=11190)\u001b[0m ------------------------------Reset called------------------------------\n",
      "Training iteration 65...\n",
      "\u001b[2m\u001b[36m(pid=11190)\u001b[0m ------------------------------Reset called------------------------------\n",
      "Training iteration 66...\n",
      "\u001b[2m\u001b[36m(pid=11190)\u001b[0m ------------------------------Reset called------------------------------\n",
      "Training iteration 67...\n",
      "\u001b[2m\u001b[36m(pid=11190)\u001b[0m ------------------------------Reset called------------------------------\n",
      "Training iteration 68...\n",
      "\u001b[2m\u001b[36m(pid=11190)\u001b[0m ------------------------------Reset called------------------------------\n",
      "Training iteration 69...\n",
      "\u001b[2m\u001b[36m(pid=11190)\u001b[0m ------------------------------Reset called------------------------------\n",
      "Training iteration 70...\n",
      "\u001b[2m\u001b[36m(pid=11190)\u001b[0m ------------------------------Reset called------------------------------\n",
      "Best Reward So Far\n",
      "136.00294557275407\n",
      "Training iteration 71...\n",
      "\u001b[2m\u001b[36m(pid=11190)\u001b[0m ------------------------------Reset called------------------------------\n",
      "Training iteration 72...\n",
      "\u001b[2m\u001b[36m(pid=11190)\u001b[0m ------------------------------Reset called------------------------------\n",
      "Training iteration 73...\n",
      "\u001b[2m\u001b[36m(pid=11190)\u001b[0m ------------------------------Reset called------------------------------\n",
      "Training iteration 74...\n",
      "\u001b[2m\u001b[36m(pid=11190)\u001b[0m ------------------------------Reset called------------------------------\n",
      "Training iteration 75...\n",
      "\u001b[2m\u001b[36m(pid=11190)\u001b[0m ------------------------------Reset called------------------------------\n",
      "Training iteration 76...\n",
      "\u001b[2m\u001b[36m(pid=11190)\u001b[0m ------------------------------Reset called------------------------------\n",
      "Training iteration 77...\n",
      "\u001b[2m\u001b[36m(pid=11190)\u001b[0m ------------------------------Reset called------------------------------\n",
      "Training iteration 78...\n",
      "\u001b[2m\u001b[36m(pid=11190)\u001b[0m ------------------------------Reset called------------------------------\n",
      "Training iteration 79...\n",
      "\u001b[2m\u001b[36m(pid=11190)\u001b[0m ------------------------------Reset called------------------------------\n",
      "Training iteration 80...\n",
      "\u001b[2m\u001b[36m(pid=11190)\u001b[0m ------------------------------Reset called------------------------------\n",
      "Best Reward So Far\n",
      "136.00294557275407\n",
      "Training iteration 81...\n",
      "\u001b[2m\u001b[36m(pid=11190)\u001b[0m ------------------------------Reset called------------------------------\n",
      "Training iteration 82...\n",
      "\u001b[2m\u001b[36m(pid=11190)\u001b[0m ------------------------------Reset called------------------------------\n",
      "Training iteration 83...\n",
      "\u001b[2m\u001b[36m(pid=11190)\u001b[0m ------------------------------Reset called------------------------------\n",
      "Training iteration 84...\n",
      "\u001b[2m\u001b[36m(pid=11190)\u001b[0m ------------------------------Reset called------------------------------\n",
      "Training iteration 85...\n",
      "\u001b[2m\u001b[36m(pid=11190)\u001b[0m ------------------------------Reset called------------------------------\n",
      "Training iteration 86...\n",
      "\u001b[2m\u001b[36m(pid=11190)\u001b[0m ------------------------------Reset called------------------------------\n",
      "Training iteration 87...\n",
      "\u001b[2m\u001b[36m(pid=11190)\u001b[0m ------------------------------Reset called------------------------------\n",
      "Training iteration 88...\n",
      "\u001b[2m\u001b[36m(pid=11190)\u001b[0m ------------------------------Reset called------------------------------\n",
      "Training iteration 89...\n",
      "\u001b[2m\u001b[36m(pid=11190)\u001b[0m ------------------------------Reset called------------------------------\n",
      "Training iteration 90...\n",
      "\u001b[2m\u001b[36m(pid=11190)\u001b[0m ------------------------------Reset called------------------------------\n",
      "Best Reward So Far\n",
      "136.00294557275407\n",
      "Training iteration 91...\n",
      "\u001b[2m\u001b[36m(pid=11190)\u001b[0m ------------------------------Reset called------------------------------\n",
      "Training iteration 92...\n",
      "\u001b[2m\u001b[36m(pid=11190)\u001b[0m ------------------------------Reset called------------------------------\n",
      "New best reward\n",
      "162.20156537078412\n",
      "Training iteration 93...\n",
      "\u001b[2m\u001b[36m(pid=11190)\u001b[0m ------------------------------Reset called------------------------------\n",
      "Training iteration 94...\n",
      "\u001b[2m\u001b[36m(pid=11190)\u001b[0m ------------------------------Reset called------------------------------\n",
      "Training iteration 95...\n",
      "\u001b[2m\u001b[36m(pid=11190)\u001b[0m ------------------------------Reset called------------------------------\n",
      "Training iteration 96...\n",
      "\u001b[2m\u001b[36m(pid=11190)\u001b[0m ------------------------------Reset called------------------------------\n",
      "Training iteration 97...\n",
      "\u001b[2m\u001b[36m(pid=11190)\u001b[0m ------------------------------Reset called------------------------------\n",
      "Training iteration 98...\n",
      "\u001b[2m\u001b[36m(pid=11190)\u001b[0m ------------------------------Reset called------------------------------\n",
      "Training iteration 99...\n",
      "\u001b[2m\u001b[36m(pid=11190)\u001b[0m ------------------------------Reset called------------------------------\n",
      "CPU times: user 24.9 s, sys: 6.94 s, total: 31.9 s\n",
      "Wall time: 10min 17s\n"
     ]
    }
   ],
   "source": [
    "%%time\n",
    "for i in range(100):\n",
    "    print(\"Training iteration {}...\".format(i))\n",
    "    results = trainer.train()\n",
    "    this_reward = results['episode_reward_max']\n",
    "    if this_reward > best_reward:\n",
    "        best_reward = this_reward\n",
    "        trainer.save()\n",
    "        path = trainer.logdir + 'checkpoint_{0}/checkpoint-{0}'.format(last_checkpoint)\n",
    "        os.remove(path)\n",
    "        last_checkpoint = i + 1\n",
    "        hall_of_fame.append(i+1)\n",
    "        print('New best reward')\n",
    "        print(best_reward)\n",
    "    if i % 10 == 0:\n",
    "        print('Best Reward So Far')\n",
    "        print(best_reward)      "
   ]
  },
  {
   "cell_type": "code",
   "execution_count": 11,
   "metadata": {},
   "outputs": [],
   "source": [
    "path = trainer.logdir + 'checkpoint_{0}/checkpoint-{0}'.format(hall_of_fame[-1])"
   ]
  },
  {
   "cell_type": "code",
   "execution_count": 12,
   "metadata": {
    "scrolled": true
   },
   "outputs": [
    {
     "data": {
      "text/plain": [
       "[<matplotlib.lines.Line2D at 0x7f7d180a9160>]"
      ]
     },
     "execution_count": 12,
     "metadata": {},
     "output_type": "execute_result"
    },
    {
     "data": {
      "image/png": "[encoded data removed]",
      "text/plain": [
       "<Figure size 432x288 with 1 Axes>"
      ]
     },
     "metadata": {
      "needs_background": "light"
     },
     "output_type": "display_data"
    }
   ],
   "source": [
    "training = pd.read_csv(trainer.logdir + 'progress.csv')\n",
    "plt.plot(training['episode_reward_mean'])"
   ]
  },
  {
   "cell_type": "code",
   "execution_count": 13,
   "metadata": {},
   "outputs": [
    {
     "name": "stdout",
     "output_type": "stream",
     "text": [
      "------------------------------Reset called------------------------------\n",
      "Cumulative reward you've received is: -0.0033574963987139175. Congratulations!\n",
      "Asset_Gain 50.95783641934872\n"
     ]
    }
   ],
   "source": [
    "env = BoxesMarket(conf)\n",
    "obs = env.reset()\n",
    "\n",
    "done = False\n",
    "cumulative_reward = 0\n",
    "prices = []\n",
    "assets = []\n",
    "actions = []\n",
    "states = [obs]\n",
    "rewards = []\n",
    "hidden = [torch.zeros(512),torch.zeros(512)]\n",
    "infos = []\n",
    "while not done:\n",
    "    action, hidden, info = trainer.compute_action(obs, hidden)\n",
    "    obs, reward, done, results = env.step(action)\n",
    "    cumulative_reward += reward\n",
    "    rewards.append(reward)\n",
    "    actions.append(action)\n",
    "    assets.append(results['assets'])\n",
    "    prices.append(results['current_price'])\n",
    "    states.append(obs)\n",
    "    infos.append(info)\n",
    "    if i % 100 == 0:\n",
    "        print('Step: {}/{}'.format(i, 200))\n",
    "print(\"Cumulative reward you've received is: {}. Congratulations!\".format(cumulative_reward))\n",
    "print(\"Asset_Gain {}\".format(assets[-1] -assets[0]))"
   ]
  },
  {
   "cell_type": "code",
   "execution_count": 14,
   "metadata": {},
   "outputs": [
    {
     "ename": "IndexError",
     "evalue": "invalid index to scalar variable.",
     "output_type": "error",
     "traceback": [
      "\u001b[0;31m---------------------------------------------------------------------------\u001b[0m",
      "\u001b[0;31mIndexError\u001b[0m                                Traceback (most recent call last)",
      "\u001b[0;32m<ipython-input-14-4faeb4bac779>\u001b[0m in \u001b[0;36m<module>\u001b[0;34m\u001b[0m\n\u001b[1;32m      1\u001b[0m \u001b[0mpure_actions\u001b[0m \u001b[0;34m=\u001b[0m \u001b[0;34m[\u001b[0m\u001b[0;34m]\u001b[0m\u001b[0;34m\u001b[0m\u001b[0;34m\u001b[0m\u001b[0m\n\u001b[1;32m      2\u001b[0m \u001b[0;32mfor\u001b[0m \u001b[0maction\u001b[0m \u001b[0;32min\u001b[0m \u001b[0mactions\u001b[0m\u001b[0;34m:\u001b[0m\u001b[0;34m\u001b[0m\u001b[0;34m\u001b[0m\u001b[0m\n\u001b[0;32m----> 3\u001b[0;31m     \u001b[0mpure_actions\u001b[0m\u001b[0;34m.\u001b[0m\u001b[0mappend\u001b[0m\u001b[0;34m(\u001b[0m\u001b[0maction\u001b[0m\u001b[0;34m[\u001b[0m\u001b[0;36m0\u001b[0m\u001b[0;34m]\u001b[0m\u001b[0;34m)\u001b[0m\u001b[0;34m\u001b[0m\u001b[0;34m\u001b[0m\u001b[0m\n\u001b[0m\u001b[1;32m      4\u001b[0m \u001b[0;34m\u001b[0m\u001b[0m\n\u001b[1;32m      5\u001b[0m \u001b[0mactions\u001b[0m \u001b[0;34m=\u001b[0m \u001b[0mpure_actions\u001b[0m\u001b[0;34m\u001b[0m\u001b[0;34m\u001b[0m\u001b[0m\n",
      "\u001b[0;31mIndexError\u001b[0m: invalid index to scalar variable."
     ]
    }
   ],
   "source": [
    "pure_actions = []\n",
    "for action in actions:\n",
    "    pure_actions.append(action[0])\n",
    "    \n",
    "actions = pure_actions"
   ]
  },
  {
   "cell_type": "code",
   "execution_count": null,
   "metadata": {},
   "outputs": [],
   "source": [
    "buy10 = np.ma.masked_where(np.array(actions) != 0, prices)\n",
    "buy20 = np.ma.masked_where(np.array(actions) != 1, prices)\n",
    "buy50 = np.ma.masked_where(np.array(actions) != 2, prices)\n",
    "hold = np.ma.masked_where(np.array(actions) != 3, prices)\n",
    "\n",
    "plt.plot(buy10, c = 'turquoise')\n",
    "plt.plot(buy20, c = 'lime')\n",
    "plt.plot(buy50, c = 'green')\n",
    "plt.plot(hold, c = 'blue')"
   ]
  },
  {
   "cell_type": "code",
   "execution_count": null,
   "metadata": {
    "scrolled": true
   },
   "outputs": [],
   "source": [
    "plt.plot(assets)"
   ]
  },
  {
   "cell_type": "code",
   "execution_count": null,
   "metadata": {},
   "outputs": [],
   "source": [
    "plt.plot(prices)"
   ]
  },
  {
   "cell_type": "code",
   "execution_count": null,
   "metadata": {},
   "outputs": [],
   "source": [
    "obs = env.test()\n",
    "\n",
    "done = False\n",
    "cumulative_reward = 0\n",
    "prices = []\n",
    "assets = []\n",
    "actions = []\n",
    "states = [obs]\n",
    "rewards = []\n",
    "hidden = [torch.zeros(512),torch.zeros(512)]\n",
    "infos = []\n",
    "market_beaters = []\n",
    "while not done:\n",
    "    action, hidden, info = trainer.compute_action(obs, hidden)\n",
    "    obs, reward, done, results = env.step(action)\n",
    "    cumulative_reward += reward\n",
    "    rewards.append(reward)\n",
    "    actions.append(action)\n",
    "    assets.append(results['assets'])\n",
    "    prices.append(results['current_price'])\n",
    "    states.append(obs)\n",
    "    infos.append(info)\n",
    "    market_beaters.append(results['market_beater'])\n",
    "print(\"Cumulative reward you've received is: {}. Congratulations!\".format(cumulative_reward))\n",
    "print(\"Asset_Gain {}\".format(assets[-1] -assets[0]))"
   ]
  },
  {
   "cell_type": "code",
   "execution_count": null,
   "metadata": {},
   "outputs": [],
   "source": [
    "plt.plot(market_beaters)\n",
    "plt.savefig(\"Graphics/market_beat_1.jpg\", dpi=1000)"
   ]
  },
  {
   "cell_type": "code",
   "execution_count": null,
   "metadata": {},
   "outputs": [],
   "source": [
    "pure_actions = []\n",
    "for action in actions:\n",
    "    pure_actions.append(action[0])\n",
    "    \n",
    "actions = pure_actions"
   ]
  },
  {
   "cell_type": "code",
   "execution_count": null,
   "metadata": {},
   "outputs": [],
   "source": [
    "buy10 = np.ma.masked_where(np.array(actions) != 0, prices)\n",
    "buy20 = np.ma.masked_where(np.array(actions) != 1, prices)\n",
    "buy50 = np.ma.masked_where(np.array(actions) != 2, prices)\n",
    "hold = np.ma.masked_where(np.array(actions) != 3, prices)\n",
    "\n",
    "plt.plot(buy10, c = 'turquoise')\n",
    "plt.plot(buy20, c = 'lime')\n",
    "plt.plot(buy50, c = 'green')\n",
    "plt.plot(hold, c = 'blue')\n",
    "plt.savefig(\"Graphics/prices_1.jpg\", dpi=1000)"
   ]
  },
  {
   "cell_type": "code",
   "execution_count": null,
   "metadata": {},
   "outputs": [],
   "source": [
    "plt.plot(assets)\n",
    "plt.savefig('Graphics/assets_1.jpg', dpi=1000)"
   ]
  },
  {
   "cell_type": "code",
   "execution_count": null,
   "metadata": {},
   "outputs": [],
   "source": [
    "plt.plot(prices)"
   ]
  },
  {
   "cell_type": "code",
   "execution_count": null,
   "metadata": {},
   "outputs": [],
   "source": [
    "market_beaters[-1]"
   ]
  },
  {
   "cell_type": "code",
   "execution_count": null,
   "metadata": {},
   "outputs": [],
   "source": [
    "from sklearn import preprocessing"
   ]
  },
  {
   "cell_type": "code",
   "execution_count": null,
   "metadata": {},
   "outputs": [],
   "source": [
    "prices_norm = preprocessing.normalize(np.array(prices).reshape(-1,1))\n",
    "assets_norm = preprocessing.normalize(np.array(assets).reshape(-1,1))"
   ]
  },
  {
   "cell_type": "code",
   "execution_count": null,
   "metadata": {},
   "outputs": [],
   "source": [
    "assets_norm-prices_norm"
   ]
  }
 ],
 "metadata": {
  "kernelspec": {
   "display_name": "Python 3",
   "language": "python",
   "name": "python3"
  },
  "language_info": {
   "codemirror_mode": {
    "name": "ipython",
    "version": 3
   },
   "file_extension": ".py",
   "mimetype": "text/x-python",
   "name": "python",
   "nbconvert_exporter": "python",
   "pygments_lexer": "ipython3",
   "version": "3.9.4"
  },
  "toc-autonumbering": false,
  "toc-showcode": false,
  "toc-showmarkdowntxt": false
 },
 "nbformat": 4,
 "nbformat_minor": 4
}
