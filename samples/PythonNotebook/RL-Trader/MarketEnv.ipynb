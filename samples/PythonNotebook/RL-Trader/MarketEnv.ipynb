{
 "cells": [
  {
   "cell_type": "code",
   "execution_count": 1,
   "metadata": {},
   "outputs": [],
   "source": [
    "import pandas as pd\n",
    "import gym\n",
    "import matplotlib.pyplot as plt\n",
    "from gym import spaces\n",
    "import numpy as np\n",
    "from numpy import load\n",
    "import torch\n",
    "import gc"
   ]
  },
  {
   "cell_type": "code",
   "execution_count": 2,
   "metadata": {},
   "outputs": [],
   "source": [
    "from Data.random_load import random_train_load\n",
    "from Data.episode_load import EpisodeLoader"
   ]
  },
  {
   "cell_type": "code",
   "execution_count": 3,
   "metadata": {},
   "outputs": [],
   "source": [
    "class MarketEnv(gym.Env):\n",
    "    def __init__(self, env_config ):\n",
    "        self.data = env_config['data']\n",
    "        self.starting_money = env_config['starting_money']\n",
    "        self.starting_stocks = env_config['starting_stocks']\n",
    "        self.episode_length = env_config['episode_length']\n",
    "        self.commission = env_config['commission']\n",
    "        \n",
    "        self.loader = EpisodeLoader(self.data, episode_length = self.episode_length)\n",
    "        self.high, self.low = self.loader.get_high_low()\n",
    "        #Change high low to be env specific\n",
    "        self.modify_high_low()\n",
    "        \n",
    "        self.observation_space = spaces.Box(high = np.inf, low = -np.inf, shape = (len(self.high),))\n",
    "        self.action_space = self.set_action_space()\n",
    "        \n",
    "    def modify_high_low(self,):\n",
    "        pass\n",
    "    \n",
    "    def set_action_space(self,):\n",
    "        return NotImplemented\n",
    "    \n",
    "    def modify_state(self, state):\n",
    "        return state\n",
    "    \n",
    "    def extract_action_info(self, action):\n",
    "        return NotImplemented\n",
    "    \n",
    "    def do_action(self, action_info):\n",
    "        return NotImplemented\n",
    "    \n",
    "    def reset(self,):\n",
    "        self.current_money = self.starting_money\n",
    "        self.current_stocks = self.starting_stocks\n",
    "        self.tick = 0\n",
    "        self.data = self.loader.get_episode()\n",
    "        self.episode_length = len(self.data)\n",
    "        state = self.data.iloc[self.tick]     \n",
    "        self.current_price = state['price']\n",
    "        state = state.values\n",
    "        # Change state to be env specific\n",
    "        state = self.modify_state(state)\n",
    "        return state.copy()\n",
    "    \n",
    "    def test(self,):\n",
    "        self.current_money = self.starting_money\n",
    "        self.current_stocks = self.starting_stocks\n",
    "        self.tick = 0\n",
    "        self.data = self.loader.get_test()\n",
    "        self.episode_length = len(self.data)   \n",
    "        state = self.data.iloc[self.tick]     \n",
    "        self.current_price = state['price']\n",
    "        state = state.values\n",
    "        # Change state to be env specific\n",
    "        state = self.modify_state(state)\n",
    "        return state.copy()\n",
    "    \n",
    "    def sell(self, amount):\n",
    "        if amount > self.current_stocks:\n",
    "            self.punish()\n",
    "        else:\n",
    "            stock_delta = -amount\n",
    "            cash_delta = amount * self.current_price * (1 - self.commission)\n",
    "            self.current_stocks += stock_delta\n",
    "            self.current_money += cash_delta\n",
    "            \n",
    "        trade_info = [stock_delta, cash_delta]\n",
    "            \n",
    "        return trade_info\n",
    "    \n",
    "    def buy(self, amount):\n",
    "        if amount > self.current_money:\n",
    "            self.punish()\n",
    "        else:\n",
    "            stock_delta = amount * (1-self.commission)/self.current_price\n",
    "            cash_delta = -amount\n",
    "            self.current_stocks += stock_delta\n",
    "            self.current_money += cash_delta\n",
    "            \n",
    "        trade_info = [stock_delta, cash_delta]\n",
    "            \n",
    "        return trade_info\n",
    "        \n",
    "    def step(self, action):\n",
    "        action_info = self.extract_action_info(action)\n",
    "        return self.do_action(action_info)\n",
    "        "
   ]
  },
  {
   "cell_type": "code",
   "execution_count": 4,
   "metadata": {},
   "outputs": [],
   "source": [
    "conf = {'curiosity_reward':150,\n",
    "        'continuous':False,\n",
    "        'data': 'Data/ground_truth/',\n",
    "        'starting_money': 1000,\n",
    "        'starting_stocks': 0,\n",
    "        'episode_length': 10000,\n",
    "        'commission': 0.0025\n",
    "        }"
   ]
  },
  {
   "cell_type": "code",
   "execution_count": 5,
   "metadata": {},
   "outputs": [],
   "source": [
    "class SimpleMarket(MarketEnv):\n",
    "    def __init__(self, env_config = conf):\n",
    "        self.is_continuous = env_config['continuous']\n",
    "        super().__init__(env_config)\n",
    "    def modify_high_low(self,):\n",
    "        self.high = np.append(self.high, [100., 2000., 1000., self.high[-1]])\n",
    "        self.low = np.append(self.low, [0., 0., 0., self.low[-1]])\n",
    "        \n",
    "    def set_action_space(self,):\n",
    "        if self.is_continuous == False:\n",
    "            self.action_space = spaces.Discrete(7) # buy/sell 10/50/100% + hold\n",
    "        else:\n",
    "            self.action_space = spaces.Box(high = 1, low = -1, shape = (1,))\n",
    "            \n",
    "    def modify_state(self, state):\n",
    "        not_liquid_assets = self.current_price * self.current_stocks\n",
    "        percentage_in_cash = 100 * (self.current_money/(self.current_money + not_liquid_assets))\n",
    "        state = np.append(state, [percentage_in_cash, self.current_money, not_liquid_assets, self.zero_line])\n",
    "        return state\n",
    "    \n",
    "    def reset(self,):\n",
    "        self.zero_line = 0\n",
    "        state = super().reset()\n",
    "        return state\n",
    "    \n",
    "    def test(self, ):\n",
    "        self.zero_line = 0\n",
    "        state = super().test()\n",
    "        return state\n",
    "    \n",
    "    def extract_action_info(self, action):\n",
    "        if self.is_continuous:            \n",
    "            if action > 0:\n",
    "                action_type = 'buy'\n",
    "            elif action == 0:\n",
    "                action_type = 'hold'\n",
    "            elif action < 0:\n",
    "                action_type = 'sell'\n",
    "            percentage = abs(action[0])\n",
    "        else:\n",
    "            action_dict = {0:0,\n",
    "                           1:0.1,\n",
    "                           2:0.2,\n",
    "                           3:0.5,\n",
    "                           4:0.1,\n",
    "                           5:0.5,\n",
    "                           6:1\n",
    "                }\n",
    "            if action == 0:\n",
    "                action_type = 'hold'\n",
    "            elif action < 4:\n",
    "                action_type = 'buy'\n",
    "            else:\n",
    "                action_type = 'sell'\n",
    "         \n",
    "            percentage = action_dict[action]\n",
    "        if action_type == 'sell' and self.current_stocks == 0:\n",
    "            action_type = 'hold'\n",
    "        elif action_type == 'buy' and self.current_money == 0:\n",
    "            action_type = 'hold'\n",
    "        return (action_type, percentage)\n",
    "    \n",
    "    def calculate_reward(self, transaction_info):\n",
    "        stock_delta = transaction_info[0]\n",
    "        cash_delta = transaction_info[1]\n",
    "        if stock_delta > 0:\n",
    "            reward = self.commission * cash_delta\n",
    "        elif stock_delta < 0:\n",
    "            reward = (self.current_price * (1 - self.commission) - self.zero_line) * abs(stock_delta)\n",
    "        else:\n",
    "            reward = 0\n",
    "        return reward \n",
    "    \n",
    "    def update_zero_line(self, buy_info):\n",
    "        stock_delta = buy_info[0]\n",
    "        self.zero_line = (self.zero_line * self.current_stocks + stock_delta * self.current_price)/(self.current_stocks + stock_delta)\n",
    "    \n",
    "    def normalize_state(self, state):\n",
    "        normalized_state = (state - self.low)/(self.high - self.low)\n",
    "        \n",
    "        return normalized_state\n",
    "    \n",
    "    def do_action(self, action_info):\n",
    "        done = 0\n",
    "        action_type, percentage = action_info\n",
    "        if action_type == 'hold':\n",
    "            trade_info = [0,0]\n",
    "        elif action_type == 'buy':\n",
    "            amount = percentage * self.current_money\n",
    "            trade_info = self.buy(amount)\n",
    "            self.update_zero_line(trade_info)\n",
    "        elif action_type == 'sell':\n",
    "            amount = percentage * self.current_stocks\n",
    "            trade_info = self.sell(amount)\n",
    "            if self.current_stocks == 0:\n",
    "                self.zero_line = 0        \n",
    "        reward = self.calculate_reward(trade_info)\n",
    "        \n",
    "        self.tick += 1\n",
    "        if self.tick == len(self.data)-1:\n",
    "            done = 1\n",
    "        self.current_price = self.data['price'][self.tick]\n",
    "        next_state = self.data.iloc[self.tick].values\n",
    "        next_state = self.modify_state(next_state)\n",
    "        next_state = self.normalize_state(next_state)\n",
    "        return next_state, reward, done, {}"
   ]
  },
  {
   "cell_type": "code",
   "execution_count": 6,
   "metadata": {},
   "outputs": [],
   "source": [
    "market = SimpleMarket()"
   ]
  },
  {
   "cell_type": "code",
   "execution_count": 7,
   "metadata": {},
   "outputs": [
    {
     "name": "stdout",
     "output_type": "stream",
     "text": [
      "1.1997730772347839\n",
      "0.023113382766805197\n"
     ]
    }
   ],
   "source": [
    "market.reset()\n",
    "actions = []\n",
    "assets = []\n",
    "prices = []\n",
    "done = 0\n",
    "while done == 0:\n",
    "    action = np.random.randint(7)\n",
    "    next_state, reward, done, info = market.step(action)\n",
    "    asset = market.current_price * market.current_stocks + market.current_money\n",
    "    actions.append(action)\n",
    "    assets.append(asset)\n",
    "    prices.append(market.current_price)\n",
    "print(prices[-1]/prices[0])\n",
    "print(assets[-1]/assets[0])"
   ]
  },
  {
   "cell_type": "code",
   "execution_count": 8,
   "metadata": {},
   "outputs": [
    {
     "data": {
      "text/plain": [
       "[<matplotlib.lines.Line2D at 0x7f4ebc7c1f28>]"
      ]
     },
     "execution_count": 8,
     "metadata": {},
     "output_type": "execute_result"
    },
    {
     "data": {
      "image/png": "[encoded data removed]",
      "text/plain": [
       "<Figure size 432x288 with 1 Axes>"
      ]
     },
     "metadata": {
      "needs_background": "light"
     },
     "output_type": "display_data"
    }
   ],
   "source": [
    "plt.plot(prices)"
   ]
  },
  {
   "cell_type": "code",
   "execution_count": 9,
   "metadata": {},
   "outputs": [
    {
     "data": {
      "text/plain": [
       "[<matplotlib.lines.Line2D at 0x7f4eba4cbd30>]"
      ]
     },
     "execution_count": 9,
     "metadata": {},
     "output_type": "execute_result"
    },
    {
     "data": {
      "image/png": "[encoded data removed]",
      "text/plain": [
       "<Figure size 432x288 with 1 Axes>"
      ]
     },
     "metadata": {
      "needs_background": "light"
     },
     "output_type": "display_data"
    }
   ],
   "source": [
    "plt.plot(assets)"
   ]
  },
  {
   "cell_type": "code",
   "execution_count": null,
   "metadata": {},
   "outputs": [],
   "source": []
  }
 ],
 "metadata": {
  "kernelspec": {
   "display_name": "Python 3",
   "language": "python",
   "name": "python3"
  },
  "language_info": {
   "codemirror_mode": {
    "name": "ipython",
    "version": 3
   },
   "file_extension": ".py",
   "mimetype": "text/x-python",
   "name": "python",
   "nbconvert_exporter": "python",
   "pygments_lexer": "ipython3",
   "version": "3.6.9"
  }
 },
 "nbformat": 4,
 "nbformat_minor": 4
}
