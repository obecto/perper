{
 "cells": [
  {
   "cell_type": "code",
   "execution_count": 1,
   "metadata": {},
   "outputs": [
    {
     "ename": "ModuleNotFoundError",
     "evalue": "No module named 'pandas'",
     "output_type": "error",
     "traceback": [
      "\u001b[1;31m---------------------------------------------------------------------------\u001b[0m",
      "\u001b[1;31mModuleNotFoundError\u001b[0m                       Traceback (most recent call last)",
      "\u001b[1;32m<ipython-input-1-64982abc7b22>\u001b[0m in \u001b[0;36m<module>\u001b[1;34m\u001b[0m\n\u001b[1;32m----> 1\u001b[1;33m \u001b[1;32mimport\u001b[0m \u001b[0mpandas\u001b[0m \u001b[1;32mas\u001b[0m \u001b[0mpd\u001b[0m\u001b[1;33m\u001b[0m\u001b[1;33m\u001b[0m\u001b[0m\n\u001b[0m\u001b[0;32m      2\u001b[0m \u001b[1;32mimport\u001b[0m \u001b[0mnumpy\u001b[0m \u001b[1;32mas\u001b[0m \u001b[0mnp\u001b[0m\u001b[1;33m\u001b[0m\u001b[1;33m\u001b[0m\u001b[0m\n\u001b[0;32m      3\u001b[0m \u001b[1;32mfrom\u001b[0m \u001b[0msklearn\u001b[0m \u001b[1;32mimport\u001b[0m \u001b[0mpreprocessing\u001b[0m\u001b[1;33m\u001b[0m\u001b[1;33m\u001b[0m\u001b[0m\n\u001b[0;32m      4\u001b[0m \u001b[1;32mimport\u001b[0m \u001b[0mmatplotlib\u001b[0m\u001b[1;33m.\u001b[0m\u001b[0mpyplot\u001b[0m \u001b[1;32mas\u001b[0m \u001b[0mplt\u001b[0m\u001b[1;33m\u001b[0m\u001b[1;33m\u001b[0m\u001b[0m\n",
      "\u001b[1;31mModuleNotFoundError\u001b[0m: No module named 'pandas'"
     ]
    }
   ],
   "source": [
    "import pandas as pd\n",
    "import numpy as np\n",
    "from sklearn import preprocessing\n",
    "import matplotlib.pyplot as plt"
   ]
  },
  {
   "cell_type": "code",
   "execution_count": 2,
   "metadata": {},
   "outputs": [],
   "source": [
    "indicator_data = pd.read_csv('Indicator_based_RL/indicator_dataset.csv')"
   ]
  },
  {
   "cell_type": "code",
   "execution_count": 3,
   "metadata": {},
   "outputs": [],
   "source": [
    "labels = pd.read_csv('new_labels.csv')"
   ]
  },
  {
   "cell_type": "code",
   "execution_count": 4,
   "metadata": {},
   "outputs": [],
   "source": [
    "google_data = pd.concat([indicator_data.iloc[:,:-24], labels], axis=1)"
   ]
  },
  {
   "cell_type": "code",
   "execution_count": 5,
   "metadata": {},
   "outputs": [],
   "source": [
    "google_data = google_data.drop([218829, 218828], axis=0)"
   ]
  },
  {
   "cell_type": "code",
   "execution_count": 6,
   "metadata": {},
   "outputs": [],
   "source": [
    "rename_dict = {'bar:open':'bar_open',\n",
    "              'bar:low':'bar_low',\n",
    "              'bar:close':'bar_close',\n",
    "              'bar:high':'bar_high'}"
   ]
  },
  {
   "cell_type": "code",
   "execution_count": 7,
   "metadata": {},
   "outputs": [],
   "source": [
    "google_data = google_data.rename(rename_dict, axis='columns')"
   ]
  },
  {
   "cell_type": "code",
   "execution_count": 8,
   "metadata": {},
   "outputs": [],
   "source": [
    "time_column = []\n",
    "sep_1 = int(2*len(google_data)/5)\n",
    "sep_2 = int(len(google_data)/2)\n",
    "for ind in range(0, sep_1):\n",
    "    time_column.append('TRAIN')\n",
    "for ind in range(sep_1, sep_2):\n",
    "    time_column.append('VALIDATE')\n",
    "for ind in range(sep_2, len(google_data)):\n",
    "    time_column.append('TEST')"
   ]
  },
  {
   "cell_type": "code",
   "execution_count": 88,
   "metadata": {},
   "outputs": [],
   "source": [
    "google_data['TIME_SEP'] = time_column"
   ]
  },
  {
   "cell_type": "code",
   "execution_count": 9,
   "metadata": {},
   "outputs": [],
   "source": [
    "google_data = google_data.drop('time', axis=1)"
   ]
  },
  {
   "cell_type": "code",
   "execution_count": 10,
   "metadata": {},
   "outputs": [],
   "source": [
    "weights_values = google_data['volume'].values\n",
    "scaler = preprocessing.MinMaxScaler(feature_range=(0, 1000))\n",
    "weights_scaled = scaler.fit_transform(weights_values.reshape(-1,1))\n",
    "google_data['volume']=weights_scaled"
   ]
  },
  {
   "cell_type": "code",
   "execution_count": 11,
   "metadata": {},
   "outputs": [
    {
     "name": "stdout",
     "output_type": "stream",
     "text": [
      "Volume: 963.826910724877   Index: 17036\n",
      "Volume: 977.8628388849562   Index: 75827\n",
      "Volume: 1000.0   Index: 77095\n",
      "Volume: 808.999180034384   Index: 223827\n",
      "Volume: 842.3312114445336   Index: 381076\n"
     ]
    }
   ],
   "source": [
    "for ind, vol in enumerate(google_data['volume']):\n",
    "    if vol>800:\n",
    "        print('Volume: {}   Index: {}'.format(vol, ind))"
   ]
  },
  {
   "cell_type": "code",
   "execution_count": 12,
   "metadata": {},
   "outputs": [
    {
     "data": {
      "image/png": "[encoded data removed]",
      "text/plain": [
       "<Figure size 432x288 with 1 Axes>"
      ]
     },
     "metadata": {
      "needs_background": "light"
     },
     "output_type": "display_data"
    }
   ],
   "source": [
    "plt.hist(google_data['volume'].values, bins = 3000)\n",
    "plt.savefig('volume_hit')"
   ]
  },
  {
   "cell_type": "code",
   "execution_count": 13,
   "metadata": {},
   "outputs": [],
   "source": [
    "google_data = google_data.drop('ABANDONEDBABY', axis=1)"
   ]
  },
  {
   "cell_type": "code",
   "execution_count": 14,
   "metadata": {},
   "outputs": [
    {
     "data": {
      "text/html": [
       "<div>\n",
       "<style scoped>\n",
       "    .dataframe tbody tr th:only-of-type {\n",
       "        vertical-align: middle;\n",
       "    }\n",
       "\n",
       "    .dataframe tbody tr th {\n",
       "        vertical-align: top;\n",
       "    }\n",
       "\n",
       "    .dataframe thead th {\n",
       "        text-align: right;\n",
       "    }\n",
       "</style>\n",
       "<table border=\"1\" class=\"dataframe\">\n",
       "  <thead>\n",
       "    <tr style=\"text-align: right;\">\n",
       "      <th></th>\n",
       "      <th>price</th>\n",
       "      <th>volume</th>\n",
       "      <th>bar_open</th>\n",
       "      <th>bar_low</th>\n",
       "      <th>bar_high</th>\n",
       "      <th>bar_close</th>\n",
       "      <th>ADI</th>\n",
       "      <th>ADIPositiveDirectionalIndex</th>\n",
       "      <th>ADINegativeDirectionalIndex</th>\n",
       "      <th>ADXR12</th>\n",
       "      <th>...</th>\n",
       "      <th>label_1</th>\n",
       "      <th>reversed_label_1</th>\n",
       "      <th>timestamps_1</th>\n",
       "      <th>label_2</th>\n",
       "      <th>reversed_label_2</th>\n",
       "      <th>timestamps_2</th>\n",
       "      <th>reg_labels_0.25</th>\n",
       "      <th>reg_labels_0.5</th>\n",
       "      <th>reg_labels_1</th>\n",
       "      <th>reg_labels_2</th>\n",
       "    </tr>\n",
       "  </thead>\n",
       "  <tbody>\n",
       "    <tr>\n",
       "      <th>0</th>\n",
       "      <td>135.38</td>\n",
       "      <td>23.784928</td>\n",
       "      <td>135.49</td>\n",
       "      <td>135.26</td>\n",
       "      <td>135.50</td>\n",
       "      <td>135.38</td>\n",
       "      <td>82.307063</td>\n",
       "      <td>3.033442</td>\n",
       "      <td>0.127029</td>\n",
       "      <td>36.712173</td>\n",
       "      <td>...</td>\n",
       "      <td>1</td>\n",
       "      <td>0</td>\n",
       "      <td>4</td>\n",
       "      <td>1</td>\n",
       "      <td>0</td>\n",
       "      <td>13</td>\n",
       "      <td>2.13</td>\n",
       "      <td>2.13</td>\n",
       "      <td>3.53</td>\n",
       "      <td>16.56</td>\n",
       "    </tr>\n",
       "    <tr>\n",
       "      <th>1</th>\n",
       "      <td>135.27</td>\n",
       "      <td>28.013743</td>\n",
       "      <td>135.34</td>\n",
       "      <td>135.26</td>\n",
       "      <td>135.50</td>\n",
       "      <td>135.27</td>\n",
       "      <td>82.332535</td>\n",
       "      <td>3.024912</td>\n",
       "      <td>0.117918</td>\n",
       "      <td>36.406090</td>\n",
       "      <td>...</td>\n",
       "      <td>1</td>\n",
       "      <td>0</td>\n",
       "      <td>4</td>\n",
       "      <td>1</td>\n",
       "      <td>0</td>\n",
       "      <td>13</td>\n",
       "      <td>2.24</td>\n",
       "      <td>2.24</td>\n",
       "      <td>3.64</td>\n",
       "      <td>16.67</td>\n",
       "    </tr>\n",
       "    <tr>\n",
       "      <th>2</th>\n",
       "      <td>135.49</td>\n",
       "      <td>22.951273</td>\n",
       "      <td>135.26</td>\n",
       "      <td>135.16</td>\n",
       "      <td>135.59</td>\n",
       "      <td>135.49</td>\n",
       "      <td>82.356481</td>\n",
       "      <td>3.016408</td>\n",
       "      <td>0.127142</td>\n",
       "      <td>35.646755</td>\n",
       "      <td>...</td>\n",
       "      <td>1</td>\n",
       "      <td>0</td>\n",
       "      <td>4</td>\n",
       "      <td>1</td>\n",
       "      <td>0</td>\n",
       "      <td>13</td>\n",
       "      <td>2.02</td>\n",
       "      <td>2.02</td>\n",
       "      <td>3.42</td>\n",
       "      <td>16.45</td>\n",
       "    </tr>\n",
       "    <tr>\n",
       "      <th>3</th>\n",
       "      <td>136.29</td>\n",
       "      <td>102.064561</td>\n",
       "      <td>135.45</td>\n",
       "      <td>135.27</td>\n",
       "      <td>136.41</td>\n",
       "      <td>136.29</td>\n",
       "      <td>82.382548</td>\n",
       "      <td>3.152866</td>\n",
       "      <td>0.118024</td>\n",
       "      <td>34.730083</td>\n",
       "      <td>...</td>\n",
       "      <td>1</td>\n",
       "      <td>0</td>\n",
       "      <td>12</td>\n",
       "      <td>1</td>\n",
       "      <td>0</td>\n",
       "      <td>18</td>\n",
       "      <td>1.22</td>\n",
       "      <td>1.22</td>\n",
       "      <td>3.10</td>\n",
       "      <td>3.10</td>\n",
       "    </tr>\n",
       "    <tr>\n",
       "      <th>4</th>\n",
       "      <td>137.51</td>\n",
       "      <td>188.542509</td>\n",
       "      <td>136.30</td>\n",
       "      <td>136.28</td>\n",
       "      <td>137.57</td>\n",
       "      <td>137.51</td>\n",
       "      <td>82.410753</td>\n",
       "      <td>3.348975</td>\n",
       "      <td>0.109559</td>\n",
       "      <td>35.243895</td>\n",
       "      <td>...</td>\n",
       "      <td>1</td>\n",
       "      <td>0</td>\n",
       "      <td>17</td>\n",
       "      <td>1</td>\n",
       "      <td>0</td>\n",
       "      <td>668</td>\n",
       "      <td>-0.64</td>\n",
       "      <td>-1.09</td>\n",
       "      <td>1.40</td>\n",
       "      <td>14.43</td>\n",
       "    </tr>\n",
       "  </tbody>\n",
       "</table>\n",
       "<p>5 rows × 282 columns</p>\n",
       "</div>"
      ],
      "text/plain": [
       "    price      volume  bar_open  bar_low  bar_high  bar_close        ADI  \\\n",
       "0  135.38   23.784928    135.49   135.26    135.50     135.38  82.307063   \n",
       "1  135.27   28.013743    135.34   135.26    135.50     135.27  82.332535   \n",
       "2  135.49   22.951273    135.26   135.16    135.59     135.49  82.356481   \n",
       "3  136.29  102.064561    135.45   135.27    136.41     136.29  82.382548   \n",
       "4  137.51  188.542509    136.30   136.28    137.57     137.51  82.410753   \n",
       "\n",
       "   ADIPositiveDirectionalIndex  ADINegativeDirectionalIndex     ADXR12  ...  \\\n",
       "0                     3.033442                     0.127029  36.712173  ...   \n",
       "1                     3.024912                     0.117918  36.406090  ...   \n",
       "2                     3.016408                     0.127142  35.646755  ...   \n",
       "3                     3.152866                     0.118024  34.730083  ...   \n",
       "4                     3.348975                     0.109559  35.243895  ...   \n",
       "\n",
       "   label_1  reversed_label_1  timestamps_1  label_2  reversed_label_2  \\\n",
       "0        1                 0             4        1                 0   \n",
       "1        1                 0             4        1                 0   \n",
       "2        1                 0             4        1                 0   \n",
       "3        1                 0            12        1                 0   \n",
       "4        1                 0            17        1                 0   \n",
       "\n",
       "   timestamps_2  reg_labels_0.25  reg_labels_0.5  reg_labels_1  reg_labels_2  \n",
       "0            13             2.13            2.13          3.53         16.56  \n",
       "1            13             2.24            2.24          3.64         16.67  \n",
       "2            13             2.02            2.02          3.42         16.45  \n",
       "3            18             1.22            1.22          3.10          3.10  \n",
       "4           668            -0.64           -1.09          1.40         14.43  \n",
       "\n",
       "[5 rows x 282 columns]"
      ]
     },
     "execution_count": 14,
     "metadata": {},
     "output_type": "execute_result"
    }
   ],
   "source": [
    "google_data.head()"
   ]
  },
  {
   "cell_type": "code",
   "execution_count": 16,
   "metadata": {},
   "outputs": [],
   "source": [
    "google_data.to_csv('gluon_data.csv', index = False)"
   ]
  },
  {
   "cell_type": "code",
   "execution_count": null,
   "metadata": {},
   "outputs": [],
   "source": []
  }
 ],
 "metadata": {
  "kernelspec": {
   "display_name": "Python 3",
   "language": "python",
   "name": "python3"
  },
  "language_info": {
   "codemirror_mode": {
    "name": "ipython",
    "version": 3
   },
   "file_extension": ".py",
   "mimetype": "text/x-python",
   "name": "python",
   "nbconvert_exporter": "python",
   "pygments_lexer": "ipython3",
   "version": "3.8.10"
  }
 },
 "nbformat": 4,
 "nbformat_minor": 4
}
