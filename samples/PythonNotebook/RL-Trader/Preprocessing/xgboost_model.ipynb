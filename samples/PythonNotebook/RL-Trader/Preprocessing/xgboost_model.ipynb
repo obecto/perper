{
 "cells": [
  {
   "cell_type": "code",
   "execution_count": 1,
   "metadata": {
    "colab": {},
    "colab_type": "code",
    "id": "HeiqgPrDC1Ls"
   },
   "outputs": [],
   "source": [
    "import numpy as np\n",
    "import pandas as pd\n",
    "import xgboost as xgb\n",
    "import pickle\n",
    "from xgboost import plot_tree\n",
    "from sklearn.model_selection import StratifiedKFold\n",
    "from sklearn.model_selection import KFold\n",
    "from sklearn.model_selection import cross_val_score\n",
    "from sklearn.model_selection import train_test_split\n",
    "from joblib import load\n",
    "from sklearn.metrics import precision_recall_curve\n",
    "import matplotlib.pyplot as plt\n",
    "from inspect import signature\n",
    "from sklearn.metrics import average_precision_score"
   ]
  },
  {
   "cell_type": "code",
   "execution_count": 2,
   "metadata": {
    "colab": {},
    "colab_type": "code",
    "id": "gpch7_aYDRqO"
   },
   "outputs": [],
   "source": [
    "def plot_pr(y_test, y_score):\n",
    "    average_precision = average_precision_score(y_test, y_score)\n",
    "    precision, recall, _ = precision_recall_curve(y_test, y_score)\n",
    "\n",
    "    # In matplotlib < 1.5, plt.fill_between does not have a 'step' argument\n",
    "    step_kwargs = ({'step': 'post'}\n",
    "                if 'step' in signature(plt.fill_between).parameters\n",
    "                else {})\n",
    "    plt.step(recall, precision, color='b', alpha=0.2,\n",
    "          where='post')\n",
    "    plt.fill_between(recall, precision, alpha=0.2, color='b', **step_kwargs)\n",
    "\n",
    "    plt.xlabel('Recall')\n",
    "    plt.ylabel('Precision')\n",
    "    plt.ylim([0.0, 1.05])\n",
    "    plt.xlim([0.0, 1.0])\n",
    "    plt.title('2-class Precision-Recall curve: AP={0:0.2f}'.format(\n",
    "            average_precision))\n"
   ]
  },
  {
   "cell_type": "code",
   "execution_count": 3,
   "metadata": {
    "colab": {},
    "colab_type": "code",
    "id": "b6p7uuSpDCS4"
   },
   "outputs": [],
   "source": [
    "# test = pd.read_csv('My Drive/data/dataset_test_automl.csv')\n",
    "labels = pd.read_csv(\"../Data/Label_based_RL/rl_data.csv\")"
   ]
  },
  {
   "cell_type": "code",
   "execution_count": 4,
   "metadata": {},
   "outputs": [
    {
     "data": {
      "text/html": [
       "<div>\n",
       "<style scoped>\n",
       "    .dataframe tbody tr th:only-of-type {\n",
       "        vertical-align: middle;\n",
       "    }\n",
       "\n",
       "    .dataframe tbody tr th {\n",
       "        vertical-align: top;\n",
       "    }\n",
       "\n",
       "    .dataframe thead th {\n",
       "        text-align: right;\n",
       "    }\n",
       "</style>\n",
       "<table border=\"1\" class=\"dataframe\">\n",
       "  <thead>\n",
       "    <tr style=\"text-align: right;\">\n",
       "      <th></th>\n",
       "      <th>Unnamed: 0</th>\n",
       "      <th>prices</th>\n",
       "      <th>regression_targets_1</th>\n",
       "      <th>regression_targets_2</th>\n",
       "      <th>regression_targets_5</th>\n",
       "      <th>reversed_label_1</th>\n",
       "      <th>reversed_label_2</th>\n",
       "      <th>reversed_label_5</th>\n",
       "      <th>labels_1</th>\n",
       "      <th>labels_2</th>\n",
       "      <th>labels_5</th>\n",
       "      <th>peak_1</th>\n",
       "      <th>peak_2</th>\n",
       "      <th>peak_5</th>\n",
       "      <th>valley_1</th>\n",
       "      <th>valley_2</th>\n",
       "      <th>valley_5</th>\n",
       "    </tr>\n",
       "  </thead>\n",
       "  <tbody>\n",
       "    <tr>\n",
       "      <th>0</th>\n",
       "      <td>0</td>\n",
       "      <td>135.38</td>\n",
       "      <td>0.91</td>\n",
       "      <td>2.13</td>\n",
       "      <td>3.46</td>\n",
       "      <td>0.0</td>\n",
       "      <td>0.0</td>\n",
       "      <td>0.0</td>\n",
       "      <td>1.0</td>\n",
       "      <td>1.0</td>\n",
       "      <td>1.0</td>\n",
       "      <td>0.0</td>\n",
       "      <td>0.0</td>\n",
       "      <td>0.0</td>\n",
       "      <td>0.0</td>\n",
       "      <td>0.0</td>\n",
       "      <td>0.0</td>\n",
       "    </tr>\n",
       "    <tr>\n",
       "      <th>1</th>\n",
       "      <td>1</td>\n",
       "      <td>135.27</td>\n",
       "      <td>1.02</td>\n",
       "      <td>2.24</td>\n",
       "      <td>3.57</td>\n",
       "      <td>0.0</td>\n",
       "      <td>0.0</td>\n",
       "      <td>0.0</td>\n",
       "      <td>1.0</td>\n",
       "      <td>1.0</td>\n",
       "      <td>1.0</td>\n",
       "      <td>1.0</td>\n",
       "      <td>1.0</td>\n",
       "      <td>1.0</td>\n",
       "      <td>0.0</td>\n",
       "      <td>0.0</td>\n",
       "      <td>0.0</td>\n",
       "    </tr>\n",
       "    <tr>\n",
       "      <th>2</th>\n",
       "      <td>2</td>\n",
       "      <td>135.49</td>\n",
       "      <td>0.80</td>\n",
       "      <td>2.02</td>\n",
       "      <td>3.35</td>\n",
       "      <td>0.0</td>\n",
       "      <td>0.0</td>\n",
       "      <td>0.0</td>\n",
       "      <td>1.0</td>\n",
       "      <td>1.0</td>\n",
       "      <td>1.0</td>\n",
       "      <td>1.0</td>\n",
       "      <td>1.0</td>\n",
       "      <td>1.0</td>\n",
       "      <td>0.0</td>\n",
       "      <td>0.0</td>\n",
       "      <td>0.0</td>\n",
       "    </tr>\n",
       "    <tr>\n",
       "      <th>3</th>\n",
       "      <td>3</td>\n",
       "      <td>136.29</td>\n",
       "      <td>1.22</td>\n",
       "      <td>1.47</td>\n",
       "      <td>3.10</td>\n",
       "      <td>0.0</td>\n",
       "      <td>0.0</td>\n",
       "      <td>0.0</td>\n",
       "      <td>1.0</td>\n",
       "      <td>1.0</td>\n",
       "      <td>1.0</td>\n",
       "      <td>1.0</td>\n",
       "      <td>1.0</td>\n",
       "      <td>1.0</td>\n",
       "      <td>0.0</td>\n",
       "      <td>0.0</td>\n",
       "      <td>0.0</td>\n",
       "    </tr>\n",
       "    <tr>\n",
       "      <th>4</th>\n",
       "      <td>4</td>\n",
       "      <td>137.51</td>\n",
       "      <td>-1.09</td>\n",
       "      <td>1.40</td>\n",
       "      <td>4.41</td>\n",
       "      <td>0.0</td>\n",
       "      <td>0.0</td>\n",
       "      <td>0.0</td>\n",
       "      <td>1.0</td>\n",
       "      <td>1.0</td>\n",
       "      <td>1.0</td>\n",
       "      <td>0.0</td>\n",
       "      <td>0.0</td>\n",
       "      <td>0.0</td>\n",
       "      <td>0.0</td>\n",
       "      <td>0.0</td>\n",
       "      <td>0.0</td>\n",
       "    </tr>\n",
       "  </tbody>\n",
       "</table>\n",
       "</div>"
      ],
      "text/plain": [
       "   Unnamed: 0  prices  regression_targets_1  regression_targets_2  \\\n",
       "0           0  135.38                  0.91                  2.13   \n",
       "1           1  135.27                  1.02                  2.24   \n",
       "2           2  135.49                  0.80                  2.02   \n",
       "3           3  136.29                  1.22                  1.47   \n",
       "4           4  137.51                 -1.09                  1.40   \n",
       "\n",
       "   regression_targets_5  reversed_label_1  reversed_label_2  reversed_label_5  \\\n",
       "0                  3.46               0.0               0.0               0.0   \n",
       "1                  3.57               0.0               0.0               0.0   \n",
       "2                  3.35               0.0               0.0               0.0   \n",
       "3                  3.10               0.0               0.0               0.0   \n",
       "4                  4.41               0.0               0.0               0.0   \n",
       "\n",
       "   labels_1  labels_2  labels_5  peak_1  peak_2  peak_5  valley_1  valley_2  \\\n",
       "0       1.0       1.0       1.0     0.0     0.0     0.0       0.0       0.0   \n",
       "1       1.0       1.0       1.0     1.0     1.0     1.0       0.0       0.0   \n",
       "2       1.0       1.0       1.0     1.0     1.0     1.0       0.0       0.0   \n",
       "3       1.0       1.0       1.0     1.0     1.0     1.0       0.0       0.0   \n",
       "4       1.0       1.0       1.0     0.0     0.0     0.0       0.0       0.0   \n",
       "\n",
       "   valley_5  \n",
       "0       0.0  \n",
       "1       0.0  \n",
       "2       0.0  \n",
       "3       0.0  \n",
       "4       0.0  "
      ]
     },
     "execution_count": 4,
     "metadata": {},
     "output_type": "execute_result"
    }
   ],
   "source": [
    "labels.head()"
   ]
  },
  {
   "cell_type": "code",
   "execution_count": 5,
   "metadata": {},
   "outputs": [],
   "source": [
    "data = pd.read_csv('../Data/Indicator_based_RL/indicator_dataset.csv')"
   ]
  },
  {
   "cell_type": "code",
   "execution_count": 6,
   "metadata": {},
   "outputs": [],
   "source": [
    "neg = []\n",
    "pos = []\n",
    "\n",
    "for label in labels['labels_5']:\n",
    "    if label == 0:\n",
    "        neg_point = np.random.normal(loc=0.7, scale=1)\n",
    "        pos_point = np.random.normal(loc=-0.3, scale=2)\n",
    "    if label == 1:\n",
    "        neg_point = np.random.normal(loc=-0.5, scale=2)\n",
    "        pos_point = np.random.normal(loc=0.5, scale=1)\n",
    "    neg.append(neg_point)\n",
    "    pos.append(pos_point)\n",
    "\n",
    "created_df = pd.DataFrame(data = {'negative':neg,\n",
    "                                  'positive':pos})"
   ]
  },
  {
   "cell_type": "code",
   "execution_count": 25,
   "metadata": {
    "colab": {},
    "colab_type": "code",
    "id": "L2WNSGobyCCw"
   },
   "outputs": [],
   "source": [
    "train_cols =  set(data.columns[1:5])\n",
    "time = data['time']\n",
    "\n",
    "x = data[train_cols].iloc[:-1, :]\n",
    "# x= labels[['regression_targets_5', 'regression_targets_2', 'regression_targets_1']]\n",
    "# x = created_df\n",
    "y = labels['labels_5']\n",
    "\n",
    "x_train, x_test, y_train, y_test = train_test_split(x, y, test_size=0.2, shuffle = False)"
   ]
  },
  {
   "cell_type": "code",
   "execution_count": 26,
   "metadata": {
    "colab": {},
    "colab_type": "code",
    "id": "zHceNBRHHDPZ"
   },
   "outputs": [],
   "source": [
    "params = {\n",
    "    \"max_depth\": 5,\n",
    "    \"min_child_weight\": 2.390986790681749,\n",
    "    \"learning_rate\": 0.18024317031941306,\n",
    "    \"gamma\": 5.297203638999168,\n",
    "    \"colsample_bytree\": 0.8,\n",
    "    \"colsample_bylevel\": 0.8,\n",
    "    \"colsample_bynode\": 0.5,\n",
    "    \"reg_lambda\": 6,\n",
    "    \"reg_alpha\": 4,\n",
    "    \"scale_pos_weight\": 9\n",
    "}\n",
    "params_1 = {\n",
    "    \"max_depth\": 5,\n",
    "    \"min_child_weight\": 0.6531465360038082,\n",
    "    \"learning_rate\": 0.22283322316645748,\n",
    "    \"gamma\": 4.561040598294255,\n",
    "    \"colsample_bytree\": 0.6,\n",
    "    \"colsample_bylevel\": 0.5,\n",
    "    \"colsample_bynode\": 0.6,\n",
    "    \"reg_lambda\": 4,\n",
    "    \"reg_alpha\": 7,\n",
    "    \"scale_pos_weight\": 7\n",
    "}"
   ]
  },
  {
   "cell_type": "code",
   "execution_count": 27,
   "metadata": {
    "colab": {},
    "colab_type": "code",
    "id": "179TT4oExZ3Z"
   },
   "outputs": [
    {
     "name": "stdout",
     "output_type": "stream",
     "text": [
      "[0]\tvalidation_0-aucpr:0.31690\n",
      "Will train until validation_0-aucpr hasn't improved in 200 rounds.\n",
      "[1]\tvalidation_0-aucpr:0.24588\n",
      "[2]\tvalidation_0-aucpr:0.23477\n",
      "[3]\tvalidation_0-aucpr:0.23615\n",
      "[4]\tvalidation_0-aucpr:0.24165\n",
      "[5]\tvalidation_0-aucpr:0.23078\n",
      "[6]\tvalidation_0-aucpr:0.23397\n",
      "[7]\tvalidation_0-aucpr:0.23377\n",
      "[8]\tvalidation_0-aucpr:0.23595\n",
      "[9]\tvalidation_0-aucpr:0.24013\n",
      "[10]\tvalidation_0-aucpr:0.24569\n",
      "[11]\tvalidation_0-aucpr:0.24569\n",
      "[12]\tvalidation_0-aucpr:0.24515\n",
      "[13]\tvalidation_0-aucpr:0.24515\n",
      "[14]\tvalidation_0-aucpr:0.24292\n",
      "[15]\tvalidation_0-aucpr:0.24292\n",
      "[16]\tvalidation_0-aucpr:0.24292\n",
      "[17]\tvalidation_0-aucpr:0.23751\n",
      "[18]\tvalidation_0-aucpr:0.23397\n",
      "[19]\tvalidation_0-aucpr:0.23317\n",
      "[20]\tvalidation_0-aucpr:0.23317\n",
      "[21]\tvalidation_0-aucpr:0.23178\n",
      "[22]\tvalidation_0-aucpr:0.23209\n",
      "[23]\tvalidation_0-aucpr:0.23201\n",
      "[24]\tvalidation_0-aucpr:0.23201\n",
      "[25]\tvalidation_0-aucpr:0.23151\n",
      "[26]\tvalidation_0-aucpr:0.23151\n",
      "[27]\tvalidation_0-aucpr:0.23155\n",
      "[28]\tvalidation_0-aucpr:0.23309\n",
      "[29]\tvalidation_0-aucpr:0.23280\n",
      "[30]\tvalidation_0-aucpr:0.23273\n",
      "[31]\tvalidation_0-aucpr:0.23273\n",
      "[32]\tvalidation_0-aucpr:0.23283\n",
      "[33]\tvalidation_0-aucpr:0.23286\n",
      "[34]\tvalidation_0-aucpr:0.23328\n",
      "[35]\tvalidation_0-aucpr:0.23289\n",
      "[36]\tvalidation_0-aucpr:0.23289\n",
      "[37]\tvalidation_0-aucpr:0.23285\n",
      "[38]\tvalidation_0-aucpr:0.23285\n",
      "[39]\tvalidation_0-aucpr:0.23285\n",
      "[40]\tvalidation_0-aucpr:0.23285\n",
      "[41]\tvalidation_0-aucpr:0.23390\n",
      "[42]\tvalidation_0-aucpr:0.23394\n",
      "[43]\tvalidation_0-aucpr:0.23384\n",
      "[44]\tvalidation_0-aucpr:0.23384\n",
      "[45]\tvalidation_0-aucpr:0.23416\n",
      "[46]\tvalidation_0-aucpr:0.23416\n",
      "[47]\tvalidation_0-aucpr:0.23416\n",
      "[48]\tvalidation_0-aucpr:0.23416\n",
      "[49]\tvalidation_0-aucpr:0.23415\n",
      "[50]\tvalidation_0-aucpr:0.23422\n",
      "[51]\tvalidation_0-aucpr:0.23477\n",
      "[52]\tvalidation_0-aucpr:0.23338\n",
      "[53]\tvalidation_0-aucpr:0.23394\n",
      "[54]\tvalidation_0-aucpr:0.23390\n",
      "[55]\tvalidation_0-aucpr:0.23415\n",
      "[56]\tvalidation_0-aucpr:0.23355\n",
      "[57]\tvalidation_0-aucpr:0.23355\n",
      "[58]\tvalidation_0-aucpr:0.23355\n",
      "[59]\tvalidation_0-aucpr:0.23355\n",
      "[60]\tvalidation_0-aucpr:0.23317\n",
      "[61]\tvalidation_0-aucpr:0.23317\n",
      "[62]\tvalidation_0-aucpr:0.23296\n",
      "[63]\tvalidation_0-aucpr:0.23296\n",
      "[64]\tvalidation_0-aucpr:0.23288\n",
      "[65]\tvalidation_0-aucpr:0.23197\n",
      "[66]\tvalidation_0-aucpr:0.23195\n",
      "[67]\tvalidation_0-aucpr:0.23195\n",
      "[68]\tvalidation_0-aucpr:0.23195\n",
      "[69]\tvalidation_0-aucpr:0.23195\n",
      "[70]\tvalidation_0-aucpr:0.23195\n",
      "[71]\tvalidation_0-aucpr:0.23195\n",
      "[72]\tvalidation_0-aucpr:0.23184\n",
      "[73]\tvalidation_0-aucpr:0.23184\n",
      "[74]\tvalidation_0-aucpr:0.23123\n",
      "[75]\tvalidation_0-aucpr:0.23123\n",
      "[76]\tvalidation_0-aucpr:0.23123\n",
      "[77]\tvalidation_0-aucpr:0.23097\n",
      "[78]\tvalidation_0-aucpr:0.23096\n",
      "[79]\tvalidation_0-aucpr:0.23096\n",
      "[80]\tvalidation_0-aucpr:0.23048\n",
      "[81]\tvalidation_0-aucpr:0.23040\n",
      "[82]\tvalidation_0-aucpr:0.23040\n",
      "[83]\tvalidation_0-aucpr:0.23040\n",
      "[84]\tvalidation_0-aucpr:0.23040\n",
      "[85]\tvalidation_0-aucpr:0.23040\n",
      "[86]\tvalidation_0-aucpr:0.23040\n",
      "[87]\tvalidation_0-aucpr:0.23043\n",
      "[88]\tvalidation_0-aucpr:0.23042\n",
      "[89]\tvalidation_0-aucpr:0.23042\n",
      "[90]\tvalidation_0-aucpr:0.23034\n",
      "[91]\tvalidation_0-aucpr:0.22919\n",
      "[92]\tvalidation_0-aucpr:0.22905\n",
      "[93]\tvalidation_0-aucpr:0.22905\n",
      "[94]\tvalidation_0-aucpr:0.22906\n",
      "[95]\tvalidation_0-aucpr:0.22906\n",
      "[96]\tvalidation_0-aucpr:0.22909\n",
      "[97]\tvalidation_0-aucpr:0.22909\n",
      "[98]\tvalidation_0-aucpr:0.22909\n",
      "[99]\tvalidation_0-aucpr:0.22909\n",
      "[100]\tvalidation_0-aucpr:0.22909\n",
      "[101]\tvalidation_0-aucpr:0.22909\n",
      "[102]\tvalidation_0-aucpr:0.22909\n",
      "[103]\tvalidation_0-aucpr:0.22895\n",
      "[104]\tvalidation_0-aucpr:0.22958\n",
      "[105]\tvalidation_0-aucpr:0.22949\n",
      "[106]\tvalidation_0-aucpr:0.22946\n",
      "[107]\tvalidation_0-aucpr:0.22941\n",
      "[108]\tvalidation_0-aucpr:0.22941\n",
      "[109]\tvalidation_0-aucpr:0.22941\n",
      "[110]\tvalidation_0-aucpr:0.22974\n",
      "[111]\tvalidation_0-aucpr:0.22974\n",
      "[112]\tvalidation_0-aucpr:0.22974\n",
      "[113]\tvalidation_0-aucpr:0.22974\n",
      "[114]\tvalidation_0-aucpr:0.22977\n",
      "[115]\tvalidation_0-aucpr:0.22977\n",
      "[116]\tvalidation_0-aucpr:0.22977\n",
      "[117]\tvalidation_0-aucpr:0.22976\n",
      "[118]\tvalidation_0-aucpr:0.22976\n",
      "[119]\tvalidation_0-aucpr:0.22973\n",
      "[120]\tvalidation_0-aucpr:0.22973\n",
      "[121]\tvalidation_0-aucpr:0.22973\n",
      "[122]\tvalidation_0-aucpr:0.22975\n",
      "[123]\tvalidation_0-aucpr:0.22975\n",
      "[124]\tvalidation_0-aucpr:0.22971\n",
      "[125]\tvalidation_0-aucpr:0.22971\n",
      "[126]\tvalidation_0-aucpr:0.22964\n",
      "[127]\tvalidation_0-aucpr:0.22964\n",
      "[128]\tvalidation_0-aucpr:0.22965\n",
      "[129]\tvalidation_0-aucpr:0.22963\n",
      "[130]\tvalidation_0-aucpr:0.22960\n",
      "[131]\tvalidation_0-aucpr:0.22960\n",
      "[132]\tvalidation_0-aucpr:0.22960\n",
      "[133]\tvalidation_0-aucpr:0.22960\n",
      "[134]\tvalidation_0-aucpr:0.22960\n",
      "[135]\tvalidation_0-aucpr:0.22960\n",
      "[136]\tvalidation_0-aucpr:0.22959\n",
      "[137]\tvalidation_0-aucpr:0.22959\n",
      "[138]\tvalidation_0-aucpr:0.22959\n",
      "[139]\tvalidation_0-aucpr:0.22959\n",
      "[140]\tvalidation_0-aucpr:0.22975\n",
      "[141]\tvalidation_0-aucpr:0.22976\n",
      "[142]\tvalidation_0-aucpr:0.22978\n",
      "[143]\tvalidation_0-aucpr:0.22980\n",
      "[144]\tvalidation_0-aucpr:0.22980\n",
      "[145]\tvalidation_0-aucpr:0.22980\n",
      "[146]\tvalidation_0-aucpr:0.22980\n",
      "[147]\tvalidation_0-aucpr:0.22974\n",
      "[148]\tvalidation_0-aucpr:0.22972\n",
      "[149]\tvalidation_0-aucpr:0.22972\n",
      "[150]\tvalidation_0-aucpr:0.22972\n",
      "[151]\tvalidation_0-aucpr:0.22972\n",
      "[152]\tvalidation_0-aucpr:0.22972\n",
      "[153]\tvalidation_0-aucpr:0.22943\n",
      "[154]\tvalidation_0-aucpr:0.22947\n",
      "[155]\tvalidation_0-aucpr:0.22937\n",
      "[156]\tvalidation_0-aucpr:0.22937\n",
      "[157]\tvalidation_0-aucpr:0.22937\n",
      "[158]\tvalidation_0-aucpr:0.22937\n",
      "[159]\tvalidation_0-aucpr:0.22937\n",
      "[160]\tvalidation_0-aucpr:0.22937\n",
      "[161]\tvalidation_0-aucpr:0.22939\n",
      "[162]\tvalidation_0-aucpr:0.22938\n",
      "[163]\tvalidation_0-aucpr:0.22937\n",
      "[164]\tvalidation_0-aucpr:0.22937\n",
      "[165]\tvalidation_0-aucpr:0.22937\n",
      "[166]\tvalidation_0-aucpr:0.22937\n",
      "[167]\tvalidation_0-aucpr:0.22938\n",
      "[168]\tvalidation_0-aucpr:0.22938\n",
      "[169]\tvalidation_0-aucpr:0.22935\n",
      "[170]\tvalidation_0-aucpr:0.22935\n",
      "[171]\tvalidation_0-aucpr:0.22893\n",
      "[172]\tvalidation_0-aucpr:0.22896\n",
      "[173]\tvalidation_0-aucpr:0.22896\n",
      "[174]\tvalidation_0-aucpr:0.22897\n",
      "[175]\tvalidation_0-aucpr:0.22897\n",
      "[176]\tvalidation_0-aucpr:0.22900\n",
      "[177]\tvalidation_0-aucpr:0.22888\n",
      "[178]\tvalidation_0-aucpr:0.22889\n",
      "[179]\tvalidation_0-aucpr:0.22888\n",
      "[180]\tvalidation_0-aucpr:0.22861\n",
      "[181]\tvalidation_0-aucpr:0.22862\n",
      "[182]\tvalidation_0-aucpr:0.22862\n",
      "[183]\tvalidation_0-aucpr:0.22862\n",
      "[184]\tvalidation_0-aucpr:0.22862\n",
      "[185]\tvalidation_0-aucpr:0.22862\n",
      "[186]\tvalidation_0-aucpr:0.22862\n",
      "[187]\tvalidation_0-aucpr:0.22862\n",
      "[188]\tvalidation_0-aucpr:0.22862\n",
      "[189]\tvalidation_0-aucpr:0.22862\n",
      "[190]\tvalidation_0-aucpr:0.22861\n",
      "[191]\tvalidation_0-aucpr:0.22861\n",
      "[192]\tvalidation_0-aucpr:0.22861\n",
      "[193]\tvalidation_0-aucpr:0.22861\n",
      "[194]\tvalidation_0-aucpr:0.22861\n",
      "[195]\tvalidation_0-aucpr:0.22858\n",
      "[196]\tvalidation_0-aucpr:0.22858\n",
      "[197]\tvalidation_0-aucpr:0.22855\n",
      "[198]\tvalidation_0-aucpr:0.22844\n",
      "[199]\tvalidation_0-aucpr:0.22844\n",
      "[200]\tvalidation_0-aucpr:0.22843\n",
      "Stopping. Best iteration:\n",
      "[0]\tvalidation_0-aucpr:0.31690\n",
      "\n"
     ]
    },
    {
     "data": {
      "text/plain": [
       "XGBClassifier(base_score=0.5, booster='gbtree', colsample_bylevel=1,\n",
       "              colsample_bynode=1, colsample_bytree=1, gamma=0, gpu_id=-1,\n",
       "              importance_type='gain', interaction_constraints='',\n",
       "              learning_rate=0.300000012, max_delta_step=0, max_depth=6,\n",
       "              min_child_weight=1, missing=nan, monotone_constraints='()',\n",
       "              n_estimators=1000, n_jobs=0, num_parallel_tree=1, random_state=0,\n",
       "              reg_alpha=0, reg_lambda=1, scale_pos_weight=1, subsample=1,\n",
       "              tree_method='exact', validate_parameters=1, verbosity=None)"
      ]
     },
     "execution_count": 27,
     "metadata": {},
     "output_type": "execute_result"
    }
   ],
   "source": [
    "model_1 = xgb.XGBClassifier(n_estimators=1000)\n",
    "model_1.fit(\n",
    "            x_train,\n",
    "            y_train,\n",
    "            eval_set = [(x_test, y_test)],\n",
    "            early_stopping_rounds = 200,\n",
    "            eval_metric = 'aucpr',\n",
    "            verbose = 1\n",
    ")"
   ]
  },
  {
   "cell_type": "code",
   "execution_count": 30,
   "metadata": {
    "colab": {
     "base_uri": "https://localhost:8080/",
     "height": 68
    },
    "colab_type": "code",
    "id": "aIBjXPB9yOSi",
    "outputId": "d7fdc77c-4dac-4604-edad-bfcbf9184271"
   },
   "outputs": [
    {
     "name": "stderr",
     "output_type": "stream",
     "text": [
      "[Parallel(n_jobs=-1)]: Using backend LokyBackend with 4 concurrent workers.\n",
      "[Parallel(n_jobs=-1)]: Done   2 out of   5 | elapsed:    0.3s remaining:    0.4s\n",
      "[Parallel(n_jobs=-1)]: Done   5 out of   5 | elapsed:    0.5s finished\n"
     ]
    }
   ],
   "source": [
    "model = xgb.XGBClassifier(**params, n_estimators=10)\n",
    "kfold = KFold(n_splits=5, shuffle = False)\n",
    "results = cross_val_score(model, x_test, y_test, cv=kfold, scoring = \"average_precision\", verbose = 5, n_jobs=-1)"
   ]
  },
  {
   "cell_type": "code",
   "execution_count": 31,
   "metadata": {
    "colab": {
     "base_uri": "https://localhost:8080/",
     "height": 34
    },
    "colab_type": "code",
    "id": "TOEdLc9dtBRI",
    "outputId": "ec69d160-9d6a-4b32-ad55-1e6168da0c62"
   },
   "outputs": [
    {
     "data": {
      "text/plain": [
       "array([0.0803118 , 0.9268487 , 0.10406418, 0.16491   , 0.33628565])"
      ]
     },
     "execution_count": 31,
     "metadata": {},
     "output_type": "execute_result"
    }
   ],
   "source": [
    "results"
   ]
  },
  {
   "cell_type": "code",
   "execution_count": null,
   "metadata": {
    "colab": {},
    "colab_type": "code",
    "id": "qPGtruf1wg72"
   },
   "outputs": [],
   "source": [
    "f_names = model_1.get_booster().feature_names\n",
    "pickle.dump(f_names, open(\"/content/drive/My Drive/Auto ML/feature_names.dat\", \"wb\"))"
   ]
  },
  {
   "cell_type": "code",
   "execution_count": null,
   "metadata": {
    "colab": {},
    "colab_type": "code",
    "id": "cUqL5UzBhaV5"
   },
   "outputs": [],
   "source": [
    "pickle.dump(model_1, open(\"/content/drive/My Drive/Auto ML/the_reasonable_one.pickle.dat\", \"wb\"))"
   ]
  },
  {
   "cell_type": "code",
   "execution_count": null,
   "metadata": {
    "colab": {
     "base_uri": "https://localhost:8080/",
     "height": 316
    },
    "colab_type": "code",
    "id": "cQ6i2KR6pIGU",
    "outputId": "54611dc8-95de-400c-9b76-6d574f446515"
   },
   "outputs": [
    {
     "ename": "FileNotFoundError",
     "evalue": "ignored",
     "output_type": "error",
     "traceback": [
      "\u001b[0;31m---------------------------------------------------------------------------\u001b[0m",
      "\u001b[0;31mFileNotFoundError\u001b[0m                         Traceback (most recent call last)",
      "\u001b[0;32m<ipython-input-11-bd6f2a2f988f>\u001b[0m in \u001b[0;36m<module>\u001b[0;34m()\u001b[0m\n\u001b[0;32m----> 1\u001b[0;31m \u001b[0mloaded_model\u001b[0m \u001b[0;34m=\u001b[0m \u001b[0mload\u001b[0m\u001b[0;34m(\u001b[0m\u001b[0;34m\"/content/drive/My Drive/Auto ML/Beast_overfit.pickle.dat\"\u001b[0m\u001b[0;34m)\u001b[0m\u001b[0;34m\u001b[0m\u001b[0;34m\u001b[0m\u001b[0m\n\u001b[0m\u001b[1;32m      2\u001b[0m \u001b[0mfeature_names\u001b[0m \u001b[0;34m=\u001b[0m \u001b[0mload\u001b[0m\u001b[0;34m(\u001b[0m\u001b[0;34m\"/content/drive/My Drive/Auto ML/feature_names.dat\"\u001b[0m\u001b[0;34m)\u001b[0m\u001b[0;34m\u001b[0m\u001b[0;34m\u001b[0m\u001b[0m\n\u001b[1;32m      3\u001b[0m \u001b[0mloaded_model\u001b[0m\u001b[0;34m.\u001b[0m\u001b[0mget_booster\u001b[0m\u001b[0;34m(\u001b[0m\u001b[0;34m)\u001b[0m\u001b[0;34m.\u001b[0m\u001b[0mfeature_names\u001b[0m \u001b[0;34m=\u001b[0m \u001b[0mfeature_names\u001b[0m\u001b[0;34m\u001b[0m\u001b[0;34m\u001b[0m\u001b[0m\n",
      "\u001b[0;32m/usr/local/lib/python3.6/dist-packages/joblib/numpy_pickle.py\u001b[0m in \u001b[0;36mload\u001b[0;34m(filename, mmap_mode)\u001b[0m\n\u001b[1;32m    595\u001b[0m             \u001b[0mobj\u001b[0m \u001b[0;34m=\u001b[0m \u001b[0m_unpickle\u001b[0m\u001b[0;34m(\u001b[0m\u001b[0mfobj\u001b[0m\u001b[0;34m)\u001b[0m\u001b[0;34m\u001b[0m\u001b[0;34m\u001b[0m\u001b[0m\n\u001b[1;32m    596\u001b[0m     \u001b[0;32melse\u001b[0m\u001b[0;34m:\u001b[0m\u001b[0;34m\u001b[0m\u001b[0;34m\u001b[0m\u001b[0m\n\u001b[0;32m--> 597\u001b[0;31m         \u001b[0;32mwith\u001b[0m \u001b[0mopen\u001b[0m\u001b[0;34m(\u001b[0m\u001b[0mfilename\u001b[0m\u001b[0;34m,\u001b[0m \u001b[0;34m'rb'\u001b[0m\u001b[0;34m)\u001b[0m \u001b[0;32mas\u001b[0m \u001b[0mf\u001b[0m\u001b[0;34m:\u001b[0m\u001b[0;34m\u001b[0m\u001b[0;34m\u001b[0m\u001b[0m\n\u001b[0m\u001b[1;32m    598\u001b[0m             \u001b[0;32mwith\u001b[0m \u001b[0m_read_fileobject\u001b[0m\u001b[0;34m(\u001b[0m\u001b[0mf\u001b[0m\u001b[0;34m,\u001b[0m \u001b[0mfilename\u001b[0m\u001b[0;34m,\u001b[0m \u001b[0mmmap_mode\u001b[0m\u001b[0;34m)\u001b[0m \u001b[0;32mas\u001b[0m \u001b[0mfobj\u001b[0m\u001b[0;34m:\u001b[0m\u001b[0;34m\u001b[0m\u001b[0;34m\u001b[0m\u001b[0m\n\u001b[1;32m    599\u001b[0m                 \u001b[0;32mif\u001b[0m \u001b[0misinstance\u001b[0m\u001b[0;34m(\u001b[0m\u001b[0mfobj\u001b[0m\u001b[0;34m,\u001b[0m \u001b[0m_basestring\u001b[0m\u001b[0;34m)\u001b[0m\u001b[0;34m:\u001b[0m\u001b[0;34m\u001b[0m\u001b[0;34m\u001b[0m\u001b[0m\n",
      "\u001b[0;31mFileNotFoundError\u001b[0m: [Errno 2] No such file or directory: '/content/drive/My Drive/Auto ML/Beast_overfit.pickle.dat'"
     ]
    }
   ],
   "source": [
    "loaded_model = load(\"/content/drive/My Drive/Auto ML/Beast_overfit.pickle.dat\")\n",
    "feature_names = load(\"/content/drive/My Drive/Auto ML/feature_names.dat\")\n",
    "loaded_model.get_booster().feature_names = feature_names"
   ]
  },
  {
   "cell_type": "code",
   "execution_count": null,
   "metadata": {
    "colab": {},
    "colab_type": "code",
    "id": "dxku-KXXHc21"
   },
   "outputs": [],
   "source": [
    "x_test_1, x_test_2, y_test_1, y_test_2 = train_test_split(x, y, test_size=0.7)"
   ]
  },
  {
   "cell_type": "code",
   "execution_count": null,
   "metadata": {
    "colab": {},
    "colab_type": "code",
    "id": "_xvOPHUX3yMH"
   },
   "outputs": [],
   "source": [
    "model_1.save_model(\"overfit_beast.json\")"
   ]
  },
  {
   "cell_type": "code",
   "execution_count": 24,
   "metadata": {
    "colab": {
     "base_uri": "https://localhost:8080/",
     "height": 295
    },
    "colab_type": "code",
    "id": "CmHxQavqDeQO",
    "outputId": "5b511f7c-0f01-4e89-91b2-ff8dc5585aeb"
   },
   "outputs": [
    {
     "data": {
      "image/png": "[encoded data removed]",
      "text/plain": [
       "<Figure size 432x288 with 1 Axes>"
      ]
     },
     "metadata": {
      "needs_background": "light"
     },
     "output_type": "display_data"
    }
   ],
   "source": [
    "test_probs = model_1.predict_proba(x_test)\n",
    "plot_pr(y_test, test_probs[:,1])"
   ]
  },
  {
   "cell_type": "code",
   "execution_count": null,
   "metadata": {
    "colab": {},
    "colab_type": "code",
    "id": "8itec-9g60rq"
   },
   "outputs": [],
   "source": [
    "importances = model_1.feature_importances_\n",
    "indices = np.argsort(importances)\n",
    "f = open(\"importance_values.txt\", 'w')\n",
    "for i in indices:\n",
    "    f.write('{0}.{1!s}{2}'.format(i+1, feature_names[i], '\\n'))\n",
    "    print(feature_names[i])\n",
    "f.close()\n",
    "\n",
    "# plt.show()"
   ]
  }
 ],
 "metadata": {
  "colab": {
   "collapsed_sections": [],
   "machine_shape": "hm",
   "name": "xgboost_model.ipynb",
   "provenance": []
  },
  "kernelspec": {
   "display_name": "Python 3",
   "language": "python",
   "name": "python3"
  },
  "language_info": {
   "codemirror_mode": {
    "name": "ipython",
    "version": 3
   },
   "file_extension": ".py",
   "mimetype": "text/x-python",
   "name": "python",
   "nbconvert_exporter": "python",
   "pygments_lexer": "ipython3",
   "version": "3.7.3"
  }
 },
 "nbformat": 4,
 "nbformat_minor": 1
}
