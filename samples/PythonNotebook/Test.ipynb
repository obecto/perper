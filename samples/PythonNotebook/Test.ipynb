{
 "cells": [
  {
   "cell_type": "code",
   "execution_count": 1,
   "id": "legitimate-asset",
   "metadata": {},
   "outputs": [],
   "source": [
    "import perper.jupyter as jupyter"
   ]
  },
  {
   "cell_type": "code",
   "execution_count": 2,
   "id": "29f21030",
   "metadata": {},
   "outputs": [
    {
     "data": {
      "text/plain": [
       "{'stream_name': '-638840d8-21b1-4138-bd1a-d63db65fabd2'}"
      ]
     },
     "execution_count": 2,
     "metadata": {},
     "output_type": "execute_result"
    }
   ],
   "source": [
    "jupyter.open_message"
   ]
  },
  {
   "cell_type": "code",
   "execution_count": 3,
   "id": "80b02df6",
   "metadata": {},
   "outputs": [
    {
     "data": {
      "text/plain": [
       "'\"Functions.PythonNotebook-f894c290-4409-4796-b4fc-23316002a2da\"'"
      ]
     },
     "execution_count": 3,
     "metadata": {},
     "output_type": "execute_result"
    }
   ],
   "source": [
    "jupyter.data"
   ]
  },
  {
   "cell_type": "code",
   "execution_count": null,
   "id": "complex-algebra",
   "metadata": {},
   "outputs": [],
   "source": [
    "stream_name = None\n",
    "\n",
    "for cache_name in jupyter.ignite.get_cache_names():\n",
    "    if \"-\" in cache_name and \"$\" not in cache_name:\n",
    "        stream_name = cache_name\n",
    "        break\n",
    "        \n",
    "if stream_name == None:\n",
    "    raise Exception(\"No stream initiated yet\")\n",
    "else:\n",
    "    print(stream_name)"
   ]
  },
  {
   "cell_type": "code",
   "execution_count": null,
   "id": "architectural-fisher",
   "metadata": {},
   "outputs": [],
   "source": [
    "from perper.model import Stream\n",
    "stream_instance = Stream(stream_name)"
   ]
  },
  {
   "cell_type": "code",
   "execution_count": null,
   "id": "surrounded-determination",
   "metadata": {},
   "outputs": [],
   "source": [
    "stream_instance.set_parameters(jupyter.ignite, jupyter.fabric, serializer = jupyter.serializer, instance = jupyter.instance, state = None)"
   ]
  },
  {
   "cell_type": "code",
   "execution_count": null,
   "id": "detailed-huntington",
   "metadata": {},
   "outputs": [],
   "source": [
    "x = await stream_instance.get_async_generator()\n",
    "jupyter.ignite.get_cache_names()"
   ]
  },
  {
   "cell_type": "code",
   "execution_count": null,
   "id": "thorough-pittsburgh",
   "metadata": {},
   "outputs": [],
   "source": [
    "stream_cache = jupyter.ignite.get_cache(stream_name)"
   ]
  },
  {
   "cell_type": "code",
   "execution_count": null,
   "id": "rotary-sunrise",
   "metadata": {},
   "outputs": [],
   "source": [
    "for el in stream_cache.scan():\n",
    "    print(el)"
   ]
  },
  {
   "cell_type": "code",
   "execution_count": null,
   "id": "boring-communist",
   "metadata": {},
   "outputs": [],
   "source": [
    "async for i in x:\n",
    "    print(i)"
   ]
  }
 ],
 "metadata": {
  "kernelspec": {
   "display_name": "Python 3",
   "language": "python",
   "name": "python3"
  },
  "language_info": {
   "codemirror_mode": {
    "name": "ipython",
    "version": 3
   },
   "file_extension": ".py",
   "mimetype": "text/x-python",
   "name": "python",
   "nbconvert_exporter": "python",
   "pygments_lexer": "ipython3",
   "version": "3.6.13"
  }
 },
 "nbformat": 4,
 "nbformat_minor": 5
}
