{
 "cells": [
  {
   "cell_type": "code",
   "execution_count": 1,
   "id": "legitimate-asset",
   "metadata": {},
   "outputs": [],
   "source": [
    "import perper.jupyter as jupyter"
   ]
  },
  {
   "cell_type": "code",
   "execution_count": 2,
   "id": "29f21030",
   "metadata": {
    "scrolled": true
   },
   "outputs": [
    {
     "ename": "AttributeError",
     "evalue": "module 'perper.jupyter' has no attribute 'open_message'",
     "output_type": "error",
     "traceback": [
      "\u001b[1;31m---------------------------------------------------------------------------\u001b[0m",
      "\u001b[1;31mAttributeError\u001b[0m                            Traceback (most recent call last)",
      "\u001b[1;32m<ipython-input-2-025ca39b96cd>\u001b[0m in \u001b[0;36m<module>\u001b[1;34m\u001b[0m\n\u001b[1;32m----> 1\u001b[1;33m \u001b[0mstream_name\u001b[0m \u001b[1;33m=\u001b[0m \u001b[0mjupyter\u001b[0m\u001b[1;33m.\u001b[0m\u001b[0mopen_message\u001b[0m\u001b[1;33m[\u001b[0m\u001b[1;36m1\u001b[0m\u001b[1;33m:\u001b[0m\u001b[1;33m-\u001b[0m\u001b[1;36m1\u001b[0m\u001b[1;33m]\u001b[0m\u001b[1;33m\u001b[0m\u001b[1;33m\u001b[0m\u001b[0m\n\u001b[0m",
      "\u001b[1;31mAttributeError\u001b[0m: module 'perper.jupyter' has no attribute 'open_message'"
     ]
    }
   ],
   "source": [
    "stream_name = jupyter.open_message[1:-1]"
   ]
  },
  {
   "cell_type": "code",
   "execution_count": null,
   "id": "80b02df6",
   "metadata": {},
   "outputs": [],
   "source": [
    "jupyter.data"
   ]
  },
  {
   "cell_type": "code",
   "execution_count": 2,
   "id": "fossil-norway",
   "metadata": {},
   "outputs": [
    {
     "data": {
      "text/plain": [
       "['-e02764e8-17ba-46a7-8960-44cc7a55f373',\n",
       " 'calls',\n",
       " 'Application-$notifications',\n",
       " 'streams']"
      ]
     },
     "execution_count": 2,
     "metadata": {},
     "output_type": "execute_result"
    }
   ],
   "source": [
    "jupyter.ignite.get_cache_names()"
   ]
  },
  {
   "cell_type": "code",
   "execution_count": 3,
   "id": "complex-algebra",
   "metadata": {},
   "outputs": [
    {
     "name": "stdout",
     "output_type": "stream",
     "text": [
      "-e02764e8-17ba-46a7-8960-44cc7a55f373\n"
     ]
    }
   ],
   "source": [
    "stream_name = None\n",
    "\n",
    "for cache_name in jupyter.ignite.get_cache_names():\n",
    "#     if \"generator\" in cache_name and \"blank\" not in cache_name:\n",
    "    if \"-\" in cache_name and \"$\" not in cache_name:\n",
    "        stream_name = cache_name\n",
    "        break\n",
    "        \n",
    "if stream_name == None:\n",
    "    raise Exception(\"No stream initiated yet\")\n",
    "else:\n",
    "    print(stream_name)"
   ]
  },
  {
   "cell_type": "code",
   "execution_count": null,
   "id": "264f666d-c651-4b5e-a589-e70a2f809480",
   "metadata": {
    "scrolled": true,
    "tags": []
   },
   "outputs": [
    {
     "name": "stdout",
     "output_type": "stream",
     "text": [
      "SimpleData(Json=\"{ 'test' : 0 }\", Name='Test', Priority=17, version=1)\n",
      "SimpleData(Json=\"{ 'test' : 0 }\", Name='Test', Priority=18, version=1)\n",
      "SimpleData(Json=\"{ 'test' : 0 }\", Name='Test', Priority=19, version=1)\n",
      "SimpleData(Json=\"{ 'test' : 0 }\", Name='Test', Priority=20, version=1)\n",
      "SimpleData(Json=\"{ 'test' : 0 }\", Name='Test', Priority=21, version=1)\n",
      "SimpleData(Json=\"{ 'test' : 0 }\", Name='Test', Priority=22, version=1)\n",
      "SimpleData(Json=\"{ 'test' : 0 }\", Name='Test', Priority=23, version=1)\n",
      "SimpleData(Json=\"{ 'test' : 0 }\", Name='Test', Priority=24, version=1)\n",
      "SimpleData(Json=\"{ 'test' : 0 }\", Name='Test', Priority=25, version=1)\n",
      "SimpleData(Json=\"{ 'test' : 0 }\", Name='Test', Priority=26, version=1)\n",
      "SimpleData(Json=\"{ 'test' : 0 }\", Name='Test', Priority=27, version=1)\n",
      "SimpleData(Json=\"{ 'test' : 0 }\", Name='Test', Priority=28, version=1)\n",
      "SimpleData(Json=\"{ 'test' : 0 }\", Name='Test', Priority=29, version=1)\n",
      "SimpleData(Json=\"{ 'test' : 0 }\", Name='Test', Priority=30, version=1)\n",
      "SimpleData(Json=\"{ 'test' : 0 }\", Name='Test', Priority=31, version=1)\n",
      "SimpleData(Json=\"{ 'test' : 0 }\", Name='Test', Priority=32, version=1)\n",
      "SimpleData(Json=\"{ 'test' : 0 }\", Name='Test', Priority=33, version=1)\n",
      "SimpleData(Json=\"{ 'test' : 0 }\", Name='Test', Priority=34, version=1)\n",
      "SimpleData(Json=\"{ 'test' : 0 }\", Name='Test', Priority=35, version=1)\n",
      "SimpleData(Json=\"{ 'test' : 0 }\", Name='Test', Priority=36, version=1)\n",
      "SimpleData(Json=\"{ 'test' : 0 }\", Name='Test', Priority=37, version=1)\n",
      "SimpleData(Json=\"{ 'test' : 0 }\", Name='Test', Priority=38, version=1)\n",
      "SimpleData(Json=\"{ 'test' : 0 }\", Name='Test', Priority=39, version=1)\n",
      "SimpleData(Json=\"{ 'test' : 0 }\", Name='Test', Priority=40, version=1)\n",
      "SimpleData(Json=\"{ 'test' : 0 }\", Name='Test', Priority=41, version=1)\n",
      "SimpleData(Json=\"{ 'test' : 0 }\", Name='Test', Priority=42, version=1)\n",
      "SimpleData(Json=\"{ 'test' : 0 }\", Name='Test', Priority=43, version=1)\n",
      "SimpleData(Json=\"{ 'test' : 0 }\", Name='Test', Priority=44, version=1)\n",
      "SimpleData(Json=\"{ 'test' : 0 }\", Name='Test', Priority=45, version=1)\n",
      "SimpleData(Json=\"{ 'test' : 0 }\", Name='Test', Priority=46, version=1)\n",
      "SimpleData(Json=\"{ 'test' : 0 }\", Name='Test', Priority=47, version=1)\n",
      "SimpleData(Json=\"{ 'test' : 0 }\", Name='Test', Priority=48, version=1)\n",
      "SimpleData(Json=\"{ 'test' : 0 }\", Name='Test', Priority=49, version=1)\n",
      "SimpleData(Json=\"{ 'test' : 0 }\", Name='Test', Priority=50, version=1)\n",
      "SimpleData(Json=\"{ 'test' : 0 }\", Name='Test', Priority=51, version=1)\n",
      "SimpleData(Json=\"{ 'test' : 0 }\", Name='Test', Priority=52, version=1)\n",
      "SimpleData(Json=\"{ 'test' : 0 }\", Name='Test', Priority=53, version=1)\n",
      "SimpleData(Json=\"{ 'test' : 0 }\", Name='Test', Priority=54, version=1)\n",
      "SimpleData(Json=\"{ 'test' : 0 }\", Name='Test', Priority=55, version=1)\n",
      "SimpleData(Json=\"{ 'test' : 0 }\", Name='Test', Priority=56, version=1)\n",
      "SimpleData(Json=\"{ 'test' : 0 }\", Name='Test', Priority=57, version=1)\n",
      "SimpleData(Json=\"{ 'test' : 0 }\", Name='Test', Priority=58, version=1)\n",
      "SimpleData(Json=\"{ 'test' : 0 }\", Name='Test', Priority=59, version=1)\n",
      "SimpleData(Json=\"{ 'test' : 0 }\", Name='Test', Priority=60, version=1)\n",
      "SimpleData(Json=\"{ 'test' : 0 }\", Name='Test', Priority=61, version=1)\n",
      "SimpleData(Json=\"{ 'test' : 0 }\", Name='Test', Priority=62, version=1)\n",
      "SimpleData(Json=\"{ 'test' : 0 }\", Name='Test', Priority=63, version=1)\n",
      "SimpleData(Json=\"{ 'test' : 0 }\", Name='Test', Priority=64, version=1)\n",
      "SimpleData(Json=\"{ 'test' : 0 }\", Name='Test', Priority=65, version=1)\n",
      "SimpleData(Json=\"{ 'test' : 0 }\", Name='Test', Priority=66, version=1)\n",
      "SimpleData(Json=\"{ 'test' : 0 }\", Name='Test', Priority=67, version=1)\n",
      "SimpleData(Json=\"{ 'test' : 0 }\", Name='Test', Priority=68, version=1)\n",
      "SimpleData(Json=\"{ 'test' : 0 }\", Name='Test', Priority=69, version=1)\n",
      "SimpleData(Json=\"{ 'test' : 0 }\", Name='Test', Priority=70, version=1)\n",
      "SimpleData(Json=\"{ 'test' : 0 }\", Name='Test', Priority=71, version=1)\n",
      "SimpleData(Json=\"{ 'test' : 0 }\", Name='Test', Priority=72, version=1)\n",
      "SimpleData(Json=\"{ 'test' : 0 }\", Name='Test', Priority=73, version=1)\n",
      "SimpleData(Json=\"{ 'test' : 0 }\", Name='Test', Priority=74, version=1)\n",
      "SimpleData(Json=\"{ 'test' : 0 }\", Name='Test', Priority=75, version=1)\n",
      "SimpleData(Json=\"{ 'test' : 0 }\", Name='Test', Priority=76, version=1)\n",
      "SimpleData(Json=\"{ 'test' : 0 }\", Name='Test', Priority=77, version=1)\n",
      "SimpleData(Json=\"{ 'test' : 0 }\", Name='Test', Priority=78, version=1)\n",
      "SimpleData(Json=\"{ 'test' : 0 }\", Name='Test', Priority=79, version=1)\n",
      "SimpleData(Json=\"{ 'test' : 0 }\", Name='Test', Priority=80, version=1)\n",
      "SimpleData(Json=\"{ 'test' : 0 }\", Name='Test', Priority=81, version=1)\n",
      "SimpleData(Json=\"{ 'test' : 0 }\", Name='Test', Priority=82, version=1)\n",
      "SimpleData(Json=\"{ 'test' : 0 }\", Name='Test', Priority=83, version=1)\n",
      "SimpleData(Json=\"{ 'test' : 0 }\", Name='Test', Priority=84, version=1)\n",
      "SimpleData(Json=\"{ 'test' : 0 }\", Name='Test', Priority=85, version=1)\n",
      "SimpleData(Json=\"{ 'test' : 0 }\", Name='Test', Priority=86, version=1)\n",
      "SimpleData(Json=\"{ 'test' : 0 }\", Name='Test', Priority=87, version=1)\n",
      "SimpleData(Json=\"{ 'test' : 0 }\", Name='Test', Priority=88, version=1)\n",
      "SimpleData(Json=\"{ 'test' : 0 }\", Name='Test', Priority=89, version=1)\n",
      "SimpleData(Json=\"{ 'test' : 0 }\", Name='Test', Priority=90, version=1)\n",
      "SimpleData(Json=\"{ 'test' : 0 }\", Name='Test', Priority=91, version=1)\n",
      "SimpleData(Json=\"{ 'test' : 0 }\", Name='Test', Priority=92, version=1)\n",
      "SimpleData(Json=\"{ 'test' : 0 }\", Name='Test', Priority=93, version=1)\n",
      "SimpleData(Json=\"{ 'test' : 0 }\", Name='Test', Priority=94, version=1)\n",
      "SimpleData(Json=\"{ 'test' : 0 }\", Name='Test', Priority=95, version=1)\n",
      "SimpleData(Json=\"{ 'test' : 0 }\", Name='Test', Priority=96, version=1)\n",
      "SimpleData(Json=\"{ 'test' : 0 }\", Name='Test', Priority=97, version=1)\n",
      "SimpleData(Json=\"{ 'test' : 0 }\", Name='Test', Priority=98, version=1)\n",
      "SimpleData(Json=\"{ 'test' : 0 }\", Name='Test', Priority=99, version=1)\n",
      "SimpleData(Json=\"{ 'test' : 0 }\", Name='Test', Priority=100, version=1)\n",
      "SimpleData(Json=\"{ 'test' : 0 }\", Name='Test', Priority=101, version=1)\n",
      "SimpleData(Json=\"{ 'test' : 0 }\", Name='Test', Priority=102, version=1)\n",
      "SimpleData(Json=\"{ 'test' : 0 }\", Name='Test', Priority=103, version=1)\n",
      "SimpleData(Json=\"{ 'test' : 0 }\", Name='Test', Priority=104, version=1)\n",
      "SimpleData(Json=\"{ 'test' : 0 }\", Name='Test', Priority=105, version=1)\n",
      "SimpleData(Json=\"{ 'test' : 0 }\", Name='Test', Priority=106, version=1)\n",
      "SimpleData(Json=\"{ 'test' : 0 }\", Name='Test', Priority=107, version=1)\n",
      "SimpleData(Json=\"{ 'test' : 0 }\", Name='Test', Priority=108, version=1)\n",
      "SimpleData(Json=\"{ 'test' : 0 }\", Name='Test', Priority=109, version=1)\n",
      "SimpleData(Json=\"{ 'test' : 0 }\", Name='Test', Priority=110, version=1)\n",
      "SimpleData(Json=\"{ 'test' : 0 }\", Name='Test', Priority=111, version=1)\n",
      "SimpleData(Json=\"{ 'test' : 0 }\", Name='Test', Priority=112, version=1)\n",
      "SimpleData(Json=\"{ 'test' : 0 }\", Name='Test', Priority=113, version=1)\n",
      "SimpleData(Json=\"{ 'test' : 0 }\", Name='Test', Priority=114, version=1)\n",
      "SimpleData(Json=\"{ 'test' : 0 }\", Name='Test', Priority=115, version=1)\n"
     ]
    }
   ],
   "source": [
    "from perper.model import Stream\n",
    "\n",
    "async def run(stream_name):\n",
    "    stream = Stream(streamname=stream_name)\n",
    "    stream.set_parameters(jupyter.ignite, jupyter.fabric, instance=jupyter.instance, serializer=jupyter.serializer, state=None)\n",
    "\n",
    "    async_gen = await stream.get_async_generator()\n",
    "    async for item in async_gen:\n",
    "        print(item)\n",
    "\n",
    "await run(stream_name)"
   ]
  },
  {
   "cell_type": "code",
   "execution_count": 4,
   "id": "architectural-fisher",
   "metadata": {},
   "outputs": [],
   "source": [
    "from perper.model import Stream\n",
    "stream = Stream(stream_name)\n",
    "stream.set_parameters(jupyter.ignite, jupyter.fabric, instance=jupyter.instance, serializer=jupyter.serializer, state=None)"
   ]
  },
  {
   "cell_type": "code",
   "execution_count": null,
   "id": "detailed-huntington",
   "metadata": {
    "scrolled": true,
    "tags": []
   },
   "outputs": [
    {
     "name": "stdout",
     "output_type": "stream",
     "text": [
      "{ 'test' : 0 }\n",
      "{ 'test' : 0 }\n",
      "{ 'test' : 0 }\n",
      "{ 'test' : 0 }\n",
      "{ 'test' : 0 }\n",
      "{ 'test' : 0 }\n",
      "{ 'test' : 0 }\n",
      "{ 'test' : 0 }\n",
      "{ 'test' : 0 }\n",
      "{ 'test' : 0 }\n",
      "{ 'test' : 0 }\n",
      "{ 'test' : 0 }\n",
      "{ 'test' : 0 }\n",
      "{ 'test' : 0 }\n",
      "{ 'test' : 0 }\n",
      "{ 'test' : 0 }\n",
      "{ 'test' : 0 }\n",
      "{ 'test' : 0 }\n",
      "{ 'test' : 0 }\n",
      "{ 'test' : 0 }\n",
      "{ 'test' : 0 }\n",
      "{ 'test' : 0 }\n",
      "{ 'test' : 0 }\n",
      "{ 'test' : 0 }\n",
      "{ 'test' : 0 }\n",
      "{ 'test' : 0 }\n",
      "{ 'test' : 0 }\n",
      "{ 'test' : 0 }\n",
      "{ 'test' : 0 }\n",
      "{ 'test' : 0 }\n",
      "{ 'test' : 0 }\n",
      "{ 'test' : 0 }\n",
      "{ 'test' : 0 }\n",
      "{ 'test' : 0 }\n",
      "{ 'test' : 0 }\n",
      "{ 'test' : 0 }\n",
      "{ 'test' : 0 }\n",
      "{ 'test' : 0 }\n",
      "{ 'test' : 0 }\n",
      "{ 'test' : 0 }\n",
      "{ 'test' : 0 }\n",
      "{ 'test' : 0 }\n",
      "{ 'test' : 0 }\n",
      "{ 'test' : 0 }\n",
      "{ 'test' : 0 }\n",
      "{ 'test' : 0 }\n",
      "{ 'test' : 0 }\n",
      "{ 'test' : 0 }\n",
      "{ 'test' : 0 }\n",
      "{ 'test' : 0 }\n",
      "{ 'test' : 0 }\n",
      "{ 'test' : 0 }\n",
      "{ 'test' : 0 }\n",
      "{ 'test' : 0 }\n",
      "{ 'test' : 0 }\n",
      "{ 'test' : 0 }\n",
      "{ 'test' : 0 }\n",
      "{ 'test' : 0 }\n",
      "{ 'test' : 0 }\n",
      "{ 'test' : 0 }\n",
      "{ 'test' : 0 }\n",
      "{ 'test' : 0 }\n",
      "{ 'test' : 0 }\n",
      "{ 'test' : 0 }\n",
      "{ 'test' : 0 }\n",
      "{ 'test' : 0 }\n",
      "{ 'test' : 0 }\n",
      "{ 'test' : 0 }\n",
      "{ 'test' : 0 }\n",
      "{ 'test' : 0 }\n",
      "{ 'test' : 0 }\n",
      "{ 'test' : 0 }\n",
      "{ 'test' : 0 }\n",
      "{ 'test' : 0 }\n",
      "{ 'test' : 0 }\n",
      "{ 'test' : 0 }\n",
      "{ 'test' : 0 }\n",
      "{ 'test' : 0 }\n",
      "{ 'test' : 0 }\n",
      "{ 'test' : 0 }\n",
      "{ 'test' : 0 }\n",
      "{ 'test' : 0 }\n",
      "{ 'test' : 0 }\n",
      "{ 'test' : 0 }\n",
      "{ 'test' : 0 }\n",
      "{ 'test' : 0 }\n",
      "{ 'test' : 0 }\n",
      "{ 'test' : 0 }\n",
      "{ 'test' : 0 }\n",
      "{ 'test' : 0 }\n",
      "{ 'test' : 0 }\n",
      "{ 'test' : 0 }\n",
      "{ 'test' : 0 }\n",
      "{ 'test' : 0 }\n",
      "{ 'test' : 0 }\n",
      "{ 'test' : 0 }\n",
      "{ 'test' : 0 }\n",
      "{ 'test' : 0 }\n",
      "{ 'test' : 0 }\n",
      "{ 'test' : 0 }\n",
      "{ 'test' : 0 }\n",
      "{ 'test' : 0 }\n",
      "{ 'test' : 0 }\n",
      "{ 'test' : 0 }\n",
      "{ 'test' : 0 }\n",
      "{ 'test' : 0 }\n",
      "{ 'test' : 0 }\n",
      "{ 'test' : 0 }\n",
      "{ 'test' : 0 }\n",
      "{ 'test' : 0 }\n",
      "{ 'test' : 0 }\n",
      "{ 'test' : 0 }\n",
      "{ 'test' : 0 }\n",
      "{ 'test' : 0 }\n",
      "{ 'test' : 0 }\n",
      "{ 'test' : 0 }\n",
      "{ 'test' : 0 }\n",
      "{ 'test' : 0 }\n",
      "{ 'test' : 0 }\n",
      "{ 'test' : 0 }\n",
      "{ 'test' : 0 }\n",
      "{ 'test' : 0 }\n",
      "{ 'test' : 0 }\n",
      "{ 'test' : 0 }\n",
      "{ 'test' : 0 }\n",
      "{ 'test' : 0 }\n",
      "{ 'test' : 0 }\n",
      "{ 'test' : 0 }\n",
      "{ 'test' : 0 }\n",
      "{ 'test' : 0 }\n",
      "{ 'test' : 0 }\n",
      "{ 'test' : 0 }\n",
      "{ 'test' : 0 }\n",
      "{ 'test' : 0 }\n",
      "{ 'test' : 0 }\n",
      "{ 'test' : 0 }\n",
      "{ 'test' : 0 }\n",
      "{ 'test' : 0 }\n",
      "{ 'test' : 0 }\n",
      "{ 'test' : 0 }\n",
      "{ 'test' : 0 }\n",
      "{ 'test' : 0 }\n",
      "{ 'test' : 0 }\n",
      "{ 'test' : 0 }\n",
      "{ 'test' : 0 }\n",
      "{ 'test' : 0 }\n",
      "{ 'test' : 0 }\n",
      "{ 'test' : 0 }\n",
      "{ 'test' : 0 }\n",
      "{ 'test' : 0 }\n",
      "{ 'test' : 0 }\n",
      "{ 'test' : 0 }\n",
      "{ 'test' : 0 }\n",
      "{ 'test' : 0 }\n",
      "{ 'test' : 0 }\n",
      "{ 'test' : 0 }\n",
      "{ 'test' : 0 }\n",
      "{ 'test' : 0 }\n",
      "{ 'test' : 0 }\n",
      "{ 'test' : 0 }\n",
      "{ 'test' : 0 }\n",
      "{ 'test' : 0 }\n",
      "{ 'test' : 0 }\n"
     ]
    }
   ],
   "source": [
    "async for item in async_gen:\n",
    "    print(item.Json)"
   ]
  },
  {
   "cell_type": "code",
   "execution_count": 5,
   "id": "843c9085-afb8-44af-b0ce-ba5e9b642c32",
   "metadata": {},
   "outputs": [],
   "source": [
    "async_gen = await stream.get_async_generator()"
   ]
  },
  {
   "cell_type": "code",
   "execution_count": 12,
   "id": "e8f2cdfd-1573-4b15-af52-743f53b906fd",
   "metadata": {},
   "outputs": [],
   "source": [
    "import json\n",
    "import numpy as np\n",
    "async def run():\n",
    "    for i in range(5):\n",
    "        item = await async_gen.__anext__()\n",
    "        row = np.fromstring(item.Json, dtype=float, sep=',')"
   ]
  },
  {
   "cell_type": "code",
   "execution_count": 13,
   "id": "5a5c7278-ca90-440e-87fd-0786ccec2e95",
   "metadata": {
    "scrolled": true,
    "tags": []
   },
   "outputs": [
    {
     "name": "stderr",
     "output_type": "stream",
     "text": [
      "<ipython-input-12-9a9293265db4>:6: DeprecationWarning: string or file could not be read to its end due to unmatched data; this will raise a ValueError in the future.\n",
      "  row = np.fromstring(item.Json, dtype=float, sep=',')\n"
     ]
    }
   ],
   "source": [
    "await run()"
   ]
  },
  {
   "cell_type": "code",
   "execution_count": null,
   "id": "boring-communist",
   "metadata": {},
   "outputs": [],
   "source": [
    "import json\n",
    "async for item in async_gen:\n",
    "    if item is not None and hasattr(item, 'json'):\n",
    "        inc_json = json.loads(item.json)\n",
    "        result = str(inc_json['id']) + ',' + str(inc_json['price']) + '\\n' # TODO: Complex json handling!    \n",
    "        print(result)"
   ]
  },
  {
   "cell_type": "code",
   "execution_count": 14,
   "id": "ef08342e-c52b-46ab-bce8-336b7a93436d",
   "metadata": {},
   "outputs": [
    {
     "data": {
      "text/plain": [
       "<async_generator object StreamEnumerable.async_generator at 0x00000245B0507550>"
      ]
     },
     "execution_count": 14,
     "metadata": {},
     "output_type": "execute_result"
    }
   ],
   "source": []
  },
  {
   "cell_type": "code",
   "execution_count": null,
   "id": "bf1dc68f-f039-467d-af2f-09045a046574",
   "metadata": {},
   "outputs": [],
   "source": []
  }
 ],
 "metadata": {
  "kernelspec": {
   "display_name": "Python 3",
   "language": "python",
   "name": "python3"
  },
  "language_info": {
   "codemirror_mode": {
    "name": "ipython",
    "version": 3
   },
   "file_extension": ".py",
   "mimetype": "text/x-python",
   "name": "python",
   "nbconvert_exporter": "python",
   "pygments_lexer": "ipython3",
   "version": "3.8.10"
  }
 },
 "nbformat": 4,
 "nbformat_minor": 5
}
