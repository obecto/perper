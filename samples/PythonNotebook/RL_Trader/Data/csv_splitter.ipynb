{
 "cells": [
  {
   "cell_type": "code",
   "execution_count": 3,
   "metadata": {},
   "outputs": [],
   "source": [
    "import os\n",
    "import csv"
   ]
  },
  {
   "cell_type": "code",
   "execution_count": 4,
   "metadata": {},
   "outputs": [],
   "source": [
    "f = open('indicator_dataset.csv', 'r')\n",
    "reader = csv.reader(f, delimiter=',')"
   ]
  },
  {
   "cell_type": "code",
   "execution_count": 5,
   "metadata": {},
   "outputs": [],
   "source": [
    "headers = next(reader)"
   ]
  },
  {
   "cell_type": "code",
   "execution_count": 6,
   "metadata": {},
   "outputs": [],
   "source": [
    "length = int(sum(1 for row in reader))\n",
    "sep_4 = int(0.9*length)\n",
    "sep_1 = int(0.22*length)\n",
    "sep_2 = int(0.44*length)\n",
    "sep_3 = int(0.66*length)"
   ]
  },
  {
   "cell_type": "code",
   "execution_count": 12,
   "metadata": {},
   "outputs": [],
   "source": [
    "writer = csv.writer(open('tr_set_1.csv', 'w'), delimiter=',')"
   ]
  },
  {
   "cell_type": "code",
   "execution_count": 13,
   "metadata": {},
   "outputs": [
    {
     "data": {
      "text/plain": [
       "3881"
      ]
     },
     "execution_count": 13,
     "metadata": {},
     "output_type": "execute_result"
    }
   ],
   "source": [
    "writer.writerow(headers)"
   ]
  },
  {
   "cell_type": "code",
   "execution_count": 14,
   "metadata": {},
   "outputs": [
    {
     "data": {
      "text/plain": [
       "0"
      ]
     },
     "execution_count": 14,
     "metadata": {},
     "output_type": "execute_result"
    }
   ],
   "source": [
    "f.seek(0)"
   ]
  },
  {
   "cell_type": "code",
   "execution_count": 15,
   "metadata": {},
   "outputs": [],
   "source": [
    "reader = csv.reader(f, delimiter=',')\n",
    "headers = next(reader)"
   ]
  },
  {
   "cell_type": "code",
   "execution_count": 16,
   "metadata": {},
   "outputs": [],
   "source": [
    "for i, row in enumerate(reader):\n",
    "    if i + 1 == sep_1:\n",
    "        current_out_path = 'tr_set_2.csv'\n",
    "        writer = csv.writer(open(current_out_path, 'w'), delimiter=',')\n",
    "        writer.writerow(headers)\n",
    "    if i + 1 == sep_2:\n",
    "        current_out_path = 'tr_set_3.csv'\n",
    "        writer = csv.writer(open(current_out_path, 'w'), delimiter=',')\n",
    "        writer.writerow(headers)\n",
    "    if i + 1 == sep_3:\n",
    "        current_out_path = 'tr_set_4.csv'\n",
    "        writer = csv.writer(open(current_out_path, 'w'), delimiter=',')\n",
    "        writer.writerow(headers)\n",
    "    if i + 1 == sep_4:\n",
    "        current_out_path = 'test_set.csv'\n",
    "        writer = csv.writer(open(current_out_path, 'w'), delimiter=',')\n",
    "        writer.writerow(headers)\n",
    "    writer.writerow(row)"
   ]
  },
  {
   "cell_type": "code",
   "execution_count": 32,
   "metadata": {},
   "outputs": [],
   "source": [
    "import pandas as pd"
   ]
  },
  {
   "cell_type": "code",
   "execution_count": 34,
   "metadata": {},
   "outputs": [],
   "source": [
    "data = pd.read_csv(\"test_set.csv\")"
   ]
  },
  {
   "cell_type": "code",
   "execution_count": 35,
   "metadata": {},
   "outputs": [
    {
     "data": {
      "text/plain": [
       "(50347, 296)"
      ]
     },
     "execution_count": 35,
     "metadata": {},
     "output_type": "execute_result"
    }
   ],
   "source": [
    "data.shape"
   ]
  },
  {
   "cell_type": "code",
   "execution_count": 36,
   "metadata": {},
   "outputs": [
    {
     "data": {
      "text/html": [
       "<div>\n",
       "<style scoped>\n",
       "    .dataframe tbody tr th:only-of-type {\n",
       "        vertical-align: middle;\n",
       "    }\n",
       "\n",
       "    .dataframe tbody tr th {\n",
       "        vertical-align: top;\n",
       "    }\n",
       "\n",
       "    .dataframe thead th {\n",
       "        text-align: right;\n",
       "    }\n",
       "</style>\n",
       "<table border=\"1\" class=\"dataframe\">\n",
       "  <thead>\n",
       "    <tr style=\"text-align: right;\">\n",
       "      <th></th>\n",
       "      <th>time</th>\n",
       "      <th>price</th>\n",
       "      <th>volume</th>\n",
       "      <th>bar:open</th>\n",
       "      <th>bar:low</th>\n",
       "      <th>bar:high</th>\n",
       "      <th>bar:close</th>\n",
       "      <th>ADI</th>\n",
       "      <th>ADIPositiveDirectionalIndex</th>\n",
       "      <th>ADINegativeDirectionalIndex</th>\n",
       "      <th>...</th>\n",
       "      <th>-4%change_1440ticks</th>\n",
       "      <th>-4%change_1440ticksregression</th>\n",
       "      <th>-8%change_1440ticks</th>\n",
       "      <th>-8%change_1440ticksregression</th>\n",
       "      <th>-4.0%change_10080ticks</th>\n",
       "      <th>-4.0%change_10080ticksregression</th>\n",
       "      <th>-8.0%change_10080ticks</th>\n",
       "      <th>-8.0%change_10080ticksregression</th>\n",
       "      <th>-16.0%change_10080ticks</th>\n",
       "      <th>-16.0%change_10080ticksregression</th>\n",
       "    </tr>\n",
       "  </thead>\n",
       "  <tbody>\n",
       "    <tr>\n",
       "      <th>0</th>\n",
       "      <td>1573682280000</td>\n",
       "      <td>187.76</td>\n",
       "      <td>38.21686</td>\n",
       "      <td>187.81</td>\n",
       "      <td>187.72</td>\n",
       "      <td>187.81</td>\n",
       "      <td>187.76</td>\n",
       "      <td>93.678981</td>\n",
       "      <td>0.158673</td>\n",
       "      <td>0.003321</td>\n",
       "      <td>...</td>\n",
       "      <td>0.0</td>\n",
       "      <td>0.000320</td>\n",
       "      <td>0.0</td>\n",
       "      <td>0.000320</td>\n",
       "      <td>0.0</td>\n",
       "      <td>0.000320</td>\n",
       "      <td>0.0</td>\n",
       "      <td>0.000320</td>\n",
       "      <td>0.0</td>\n",
       "      <td>0.000320</td>\n",
       "    </tr>\n",
       "    <tr>\n",
       "      <th>1</th>\n",
       "      <td>1573682340000</td>\n",
       "      <td>187.73</td>\n",
       "      <td>38.78441</td>\n",
       "      <td>187.78</td>\n",
       "      <td>187.70</td>\n",
       "      <td>187.80</td>\n",
       "      <td>187.73</td>\n",
       "      <td>93.684313</td>\n",
       "      <td>0.158276</td>\n",
       "      <td>0.003386</td>\n",
       "      <td>...</td>\n",
       "      <td>0.0</td>\n",
       "      <td>0.000000</td>\n",
       "      <td>0.0</td>\n",
       "      <td>0.000000</td>\n",
       "      <td>0.0</td>\n",
       "      <td>0.000000</td>\n",
       "      <td>0.0</td>\n",
       "      <td>0.000000</td>\n",
       "      <td>0.0</td>\n",
       "      <td>0.000000</td>\n",
       "    </tr>\n",
       "    <tr>\n",
       "      <th>2</th>\n",
       "      <td>1573682400000</td>\n",
       "      <td>187.75</td>\n",
       "      <td>13.01466</td>\n",
       "      <td>187.76</td>\n",
       "      <td>187.73</td>\n",
       "      <td>187.79</td>\n",
       "      <td>187.75</td>\n",
       "      <td>93.690340</td>\n",
       "      <td>0.157880</td>\n",
       "      <td>0.003144</td>\n",
       "      <td>...</td>\n",
       "      <td>0.0</td>\n",
       "      <td>0.000266</td>\n",
       "      <td>0.0</td>\n",
       "      <td>0.000266</td>\n",
       "      <td>0.0</td>\n",
       "      <td>0.000266</td>\n",
       "      <td>0.0</td>\n",
       "      <td>0.000266</td>\n",
       "      <td>0.0</td>\n",
       "      <td>0.000266</td>\n",
       "    </tr>\n",
       "    <tr>\n",
       "      <th>3</th>\n",
       "      <td>1573682460000</td>\n",
       "      <td>187.74</td>\n",
       "      <td>18.35852</td>\n",
       "      <td>187.76</td>\n",
       "      <td>187.73</td>\n",
       "      <td>187.78</td>\n",
       "      <td>187.74</td>\n",
       "      <td>93.697015</td>\n",
       "      <td>0.157486</td>\n",
       "      <td>0.002919</td>\n",
       "      <td>...</td>\n",
       "      <td>0.0</td>\n",
       "      <td>0.000213</td>\n",
       "      <td>0.0</td>\n",
       "      <td>0.000213</td>\n",
       "      <td>0.0</td>\n",
       "      <td>0.000213</td>\n",
       "      <td>0.0</td>\n",
       "      <td>0.000213</td>\n",
       "      <td>0.0</td>\n",
       "      <td>0.000213</td>\n",
       "    </tr>\n",
       "    <tr>\n",
       "      <th>4</th>\n",
       "      <td>1573682520000</td>\n",
       "      <td>187.70</td>\n",
       "      <td>9.99508</td>\n",
       "      <td>187.74</td>\n",
       "      <td>187.70</td>\n",
       "      <td>187.76</td>\n",
       "      <td>187.70</td>\n",
       "      <td>93.702904</td>\n",
       "      <td>0.157092</td>\n",
       "      <td>0.003163</td>\n",
       "      <td>...</td>\n",
       "      <td>0.0</td>\n",
       "      <td>0.000000</td>\n",
       "      <td>0.0</td>\n",
       "      <td>0.000000</td>\n",
       "      <td>0.0</td>\n",
       "      <td>0.000000</td>\n",
       "      <td>0.0</td>\n",
       "      <td>0.000000</td>\n",
       "      <td>0.0</td>\n",
       "      <td>0.000000</td>\n",
       "    </tr>\n",
       "  </tbody>\n",
       "</table>\n",
       "<p>5 rows × 296 columns</p>\n",
       "</div>"
      ],
      "text/plain": [
       "            time   price    volume  bar:open  bar:low  bar:high  bar:close  \\\n",
       "0  1573682280000  187.76  38.21686    187.81   187.72    187.81     187.76   \n",
       "1  1573682340000  187.73  38.78441    187.78   187.70    187.80     187.73   \n",
       "2  1573682400000  187.75  13.01466    187.76   187.73    187.79     187.75   \n",
       "3  1573682460000  187.74  18.35852    187.76   187.73    187.78     187.74   \n",
       "4  1573682520000  187.70   9.99508    187.74   187.70    187.76     187.70   \n",
       "\n",
       "         ADI  ADIPositiveDirectionalIndex  ADINegativeDirectionalIndex  ...  \\\n",
       "0  93.678981                     0.158673                     0.003321  ...   \n",
       "1  93.684313                     0.158276                     0.003386  ...   \n",
       "2  93.690340                     0.157880                     0.003144  ...   \n",
       "3  93.697015                     0.157486                     0.002919  ...   \n",
       "4  93.702904                     0.157092                     0.003163  ...   \n",
       "\n",
       "   -4%change_1440ticks  -4%change_1440ticksregression  -8%change_1440ticks  \\\n",
       "0                  0.0                       0.000320                  0.0   \n",
       "1                  0.0                       0.000000                  0.0   \n",
       "2                  0.0                       0.000266                  0.0   \n",
       "3                  0.0                       0.000213                  0.0   \n",
       "4                  0.0                       0.000000                  0.0   \n",
       "\n",
       "   -8%change_1440ticksregression  -4.0%change_10080ticks  \\\n",
       "0                       0.000320                     0.0   \n",
       "1                       0.000000                     0.0   \n",
       "2                       0.000266                     0.0   \n",
       "3                       0.000213                     0.0   \n",
       "4                       0.000000                     0.0   \n",
       "\n",
       "   -4.0%change_10080ticksregression  -8.0%change_10080ticks  \\\n",
       "0                          0.000320                     0.0   \n",
       "1                          0.000000                     0.0   \n",
       "2                          0.000266                     0.0   \n",
       "3                          0.000213                     0.0   \n",
       "4                          0.000000                     0.0   \n",
       "\n",
       "   -8.0%change_10080ticksregression  -16.0%change_10080ticks  \\\n",
       "0                          0.000320                      0.0   \n",
       "1                          0.000000                      0.0   \n",
       "2                          0.000266                      0.0   \n",
       "3                          0.000213                      0.0   \n",
       "4                          0.000000                      0.0   \n",
       "\n",
       "   -16.0%change_10080ticksregression  \n",
       "0                           0.000320  \n",
       "1                           0.000000  \n",
       "2                           0.000266  \n",
       "3                           0.000213  \n",
       "4                           0.000000  \n",
       "\n",
       "[5 rows x 296 columns]"
      ]
     },
     "execution_count": 36,
     "metadata": {},
     "output_type": "execute_result"
    }
   ],
   "source": [
    "data.head()"
   ]
  },
  {
   "cell_type": "code",
   "execution_count": null,
   "metadata": {},
   "outputs": [],
   "source": []
  }
 ],
 "metadata": {
  "kernelspec": {
   "display_name": "Python 3",
   "language": "python",
   "name": "python3"
  },
  "language_info": {
   "codemirror_mode": {
    "name": "ipython",
    "version": 3
   },
   "file_extension": ".py",
   "mimetype": "text/x-python",
   "name": "python",
   "nbconvert_exporter": "python",
   "pygments_lexer": "ipython3",
   "version": "3.7.3"
  }
 },
 "nbformat": 4,
 "nbformat_minor": 4
}
